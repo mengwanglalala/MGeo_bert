{
 "cells": [
  {
   "cell_type": "code",
   "execution_count": 2,
   "metadata": {},
   "outputs": [
    {
     "name": "stderr",
     "output_type": "stream",
     "text": [
      "2023-04-23 17:26:09,701 - modelscope - INFO - Generating dataset GeoGLUE (C:\\Users\\pc\\.cache\\modelscope\\hub\\datasets\\modelscope___GeoGLUE\\master\\train)\n"
     ]
    },
    {
     "name": "stdout",
     "output_type": "stream",
     "text": [
      "100% "
     ]
    },
    {
     "name": "stderr",
     "output_type": "stream",
     "text": [
      "Downloading data files: 100%|██████████| 1/1 [00:02<00:00,  2.37s/it]\n",
      "Extracting data files: 100%|██████████| 1/1 [00:00<00:00, 10.53it/s]\n",
      "Using custom data configuration default-ba99d848e473fde1\n"
     ]
    },
    {
     "name": "stdout",
     "output_type": "stream",
     "text": [
      "Downloading and preparing dataset json/default to C:/Users/pc/.cache/huggingface/datasets/json/default-ba99d848e473fde1/0.0.0/0f7e3662623656454fcd2b650f34e886a7db4b9104504885bd462096cc7a9f51...\n"
     ]
    },
    {
     "name": "stderr",
     "output_type": "stream",
     "text": [
      "Downloading data files: 100%|██████████| 1/1 [00:00<00:00, 1000.55it/s]\n",
      "Extracting data files: 100%|██████████| 1/1 [00:00<00:00, 499.92it/s]\n"
     ]
    },
    {
     "name": "stdout",
     "output_type": "stream",
     "text": [
      "Dataset json downloaded and prepared to C:/Users/pc/.cache/huggingface/datasets/json/default-ba99d848e473fde1/0.0.0/0f7e3662623656454fcd2b650f34e886a7db4b9104504885bd462096cc7a9f51. Subsequent calls will reuse this data.\n"
     ]
    },
    {
     "name": "stderr",
     "output_type": "stream",
     "text": [
      "100%|██████████| 1/1 [00:00<00:00, 66.67it/s]\n",
      "2023-04-23 17:26:15,222 - modelscope - INFO - Generating dataset GeoGLUE (C:\\Users\\pc\\.cache\\modelscope\\hub\\datasets\\modelscope___GeoGLUE\\master\\validation)\n"
     ]
    },
    {
     "name": "stdout",
     "output_type": "stream",
     "text": [
      "100% "
     ]
    },
    {
     "name": "stderr",
     "output_type": "stream",
     "text": [
      "Downloading data files: 100%|██████████| 1/1 [00:00<00:00,  1.27it/s]\n",
      "Extracting data files: 100%|██████████| 1/1 [00:00<00:00, 38.46it/s]\n",
      "Using custom data configuration default-57b9a9cf102abff7\n"
     ]
    },
    {
     "name": "stdout",
     "output_type": "stream",
     "text": [
      "Downloading and preparing dataset json/default to C:/Users/pc/.cache/huggingface/datasets/json/default-57b9a9cf102abff7/0.0.0/0f7e3662623656454fcd2b650f34e886a7db4b9104504885bd462096cc7a9f51...\n"
     ]
    },
    {
     "name": "stderr",
     "output_type": "stream",
     "text": [
      "Downloading data files: 100%|██████████| 1/1 [00:00<?, ?it/s]\n",
      "Extracting data files: 100%|██████████| 1/1 [00:00<00:00, 1000.55it/s]\n"
     ]
    },
    {
     "name": "stdout",
     "output_type": "stream",
     "text": [
      "Dataset json downloaded and prepared to C:/Users/pc/.cache/huggingface/datasets/json/default-57b9a9cf102abff7/0.0.0/0f7e3662623656454fcd2b650f34e886a7db4b9104504885bd462096cc7a9f51. Subsequent calls will reuse this data.\n"
     ]
    },
    {
     "name": "stderr",
     "output_type": "stream",
     "text": [
      "100%|██████████| 1/1 [00:00<00:00, 76.93it/s]\n"
     ]
    }
   ],
   "source": [
    "import os\n",
    "from modelscope.msdatasets import MsDataset\n",
    "from modelscope.metainfo import Trainers, Preprocessors\n",
    "from modelscope.utils.constant import ModelFile, Tasks\n",
    "from modelscope.trainers import build_trainer\n",
    "\n",
    "# load dataset\n",
    "train_dataset = MsDataset.load('GeoGLUE', subset_name='GeoEAG', split='train', namespace='damo')\n",
    "dev_dataset = MsDataset.load('GeoGLUE', subset_name='GeoEAG', split='validation', namespace='damo')\n"
   ]
  },
  {
   "cell_type": "code",
   "execution_count": 4,
   "metadata": {},
   "outputs": [
    {
     "name": "stderr",
     "output_type": "stream",
     "text": [
      "Creating json from Arrow format: 100%|██████████| 97/97 [00:00<00:00, 245.57ba/s]\n",
      "Creating json from Arrow format: 100%|██████████| 23/23 [00:00<00:00, 252.75ba/s]\n"
     ]
    },
    {
     "data": {
      "text/plain": [
       "5521652"
      ]
     },
     "execution_count": 4,
     "metadata": {},
     "output_type": "execute_result"
    }
   ],
   "source": [
    "train_dataset._hf_ds['train'].to_json('./GeoEAG_data/train.json')\n",
    "dev_dataset._hf_ds['validation'].to_json('./GeoEAG_data/val.json')"
   ]
  },
  {
   "cell_type": "code",
   "execution_count": 5,
   "metadata": {},
   "outputs": [
    {
     "data": {
      "text/plain": [
       "Dataset({\n",
       "    features: ['sentence1', 'sentence2', 'label'],\n",
       "    num_rows: 96423\n",
       "})"
      ]
     },
     "execution_count": 5,
     "metadata": {},
     "output_type": "execute_result"
    }
   ],
   "source": [
    "train_dataset._hf_ds['train']"
   ]
  },
  {
   "cell_type": "code",
   "execution_count": 6,
   "metadata": {},
   "outputs": [
    {
     "data": {
      "text/plain": [
       "Dataset({\n",
       "    features: ['sentence1', 'sentence2', 'label'],\n",
       "    num_rows: 22974\n",
       "})"
      ]
     },
     "execution_count": 6,
     "metadata": {},
     "output_type": "execute_result"
    }
   ],
   "source": [
    "dev_dataset._hf_ds['validation']"
   ]
  },
  {
   "cell_type": "code",
   "execution_count": null,
   "metadata": {},
   "outputs": [],
   "source": []
  }
 ],
 "metadata": {
  "interpreter": {
   "hash": "af29693f008057c36364ef5dfa616275bf7c0cf6e6f82cd1dcf3377b342d6ed3"
  },
  "kernelspec": {
   "display_name": "Python 3.7.16 ('MGeo')",
   "language": "python",
   "name": "python3"
  },
  "language_info": {
   "codemirror_mode": {
    "name": "ipython",
    "version": 3
   },
   "file_extension": ".py",
   "mimetype": "text/x-python",
   "name": "python",
   "nbconvert_exporter": "python",
   "pygments_lexer": "ipython3",
   "version": "3.7.16"
  },
  "orig_nbformat": 4
 },
 "nbformat": 4,
 "nbformat_minor": 2
}
