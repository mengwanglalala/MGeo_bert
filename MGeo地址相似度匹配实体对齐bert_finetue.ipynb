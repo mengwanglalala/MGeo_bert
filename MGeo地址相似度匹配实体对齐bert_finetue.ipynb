{
 "cells": [
  {
   "cell_type": "code",
   "execution_count": 1,
   "metadata": {},
   "outputs": [],
   "source": [
    "import numpy as np\n",
    "from datasets import load_dataset\n",
    "from datasets import Dataset, DatasetDict, IterableDataset, IterableDatasetDict\n",
    "import torch\n",
    "import torch.nn as nn\n",
    "from transformers import BertTokenizer,DataCollatorWithPadding, TrainingArguments\n",
    "from transformers import Trainer\n",
    "from transformers import DataCollatorWithPadding\n",
    "from transformers import TrainingArguments\n",
    "from transformers import BertForSequenceClassification,BertModel"
   ]
  },
  {
   "cell_type": "code",
   "execution_count": 2,
   "metadata": {},
   "outputs": [
    {
     "name": "stderr",
     "output_type": "stream",
     "text": [
      "Using custom data configuration default-c4134806cc436348\n",
      "Reusing dataset json (C:\\Users\\pc\\.cache\\huggingface\\datasets\\json\\default-c4134806cc436348\\0.0.0\\a3e658c4731e59120d44081ac10bf85dc7e1388126b92338344ce9661907f253)\n"
     ]
    },
    {
     "data": {
      "application/vnd.jupyter.widget-view+json": {
       "model_id": "bb0541390e1841f3a34ce5764935b718",
       "version_major": 2,
       "version_minor": 0
      },
      "text/plain": [
       "  0%|          | 0/1 [00:00<?, ?it/s]"
      ]
     },
     "metadata": {},
     "output_type": "display_data"
    },
    {
     "name": "stderr",
     "output_type": "stream",
     "text": [
      "Using custom data configuration default-259030f4700e3c02\n",
      "Reusing dataset json (C:\\Users\\pc\\.cache\\huggingface\\datasets\\json\\default-259030f4700e3c02\\0.0.0\\a3e658c4731e59120d44081ac10bf85dc7e1388126b92338344ce9661907f253)\n"
     ]
    },
    {
     "data": {
      "application/vnd.jupyter.widget-view+json": {
       "model_id": "05ef537c376a424b8f9975c123d19eee",
       "version_major": 2,
       "version_minor": 0
      },
      "text/plain": [
       "  0%|          | 0/1 [00:00<?, ?it/s]"
      ]
     },
     "metadata": {},
     "output_type": "display_data"
    }
   ],
   "source": [
    "train_datasets = load_dataset(\"json\", data_files=[\"./GeoEAG_data/train.json\"])\n",
    "test_datasets = load_dataset(\"json\", data_files=[\"./GeoEAG_data/val.json\"])"
   ]
  },
  {
   "cell_type": "code",
   "execution_count": 3,
   "metadata": {},
   "outputs": [
    {
     "name": "stdout",
     "output_type": "stream",
     "text": [
      "{'sentence1': '思明区中华街道大同路思东商厦3梯', 'sentence2': '霞溪路187号霞溪路181-187思东商厦-四梯', 'label': 'partial_match'}\n"
     ]
    }
   ],
   "source": [
    "for p in iter(train_datasets['train']):\n",
    "    print(p)\n",
    "    break\n",
    "\n",
    "\n",
    "train_datasets = train_datasets['train']\n",
    "test_datasets = test_datasets['train']"
   ]
  },
  {
   "cell_type": "code",
   "execution_count": 4,
   "metadata": {},
   "outputs": [
    {
     "data": {
      "text/plain": [
       "Dataset({\n",
       "    features: ['sentence1', 'sentence2', 'label'],\n",
       "    num_rows: 96423\n",
       "})"
      ]
     },
     "execution_count": 4,
     "metadata": {},
     "output_type": "execute_result"
    }
   ],
   "source": [
    "set(test_datasets['label'])\n",
    "train_datasets"
   ]
  },
  {
   "cell_type": "code",
   "execution_count": 5,
   "metadata": {},
   "outputs": [],
   "source": [
    "label2id = {\n",
    "    'not_match': 0,\n",
    "    'partial_match': 1,\n",
    "    'exact_match' : 2,\n",
    "}\n",
    "model_name = 'bert-base-chinese'\n",
    "tokenizer = BertTokenizer.from_pretrained(model_name)"
   ]
  },
  {
   "cell_type": "code",
   "execution_count": 6,
   "metadata": {},
   "outputs": [
    {
     "name": "stderr",
     "output_type": "stream",
     "text": [
      "Loading cached processed dataset at C:\\Users\\pc\\.cache\\huggingface\\datasets\\json\\default-c4134806cc436348\\0.0.0\\a3e658c4731e59120d44081ac10bf85dc7e1388126b92338344ce9661907f253\\cache-31a8345c3a547760.arrow\n",
      "Loading cached processed dataset at C:\\Users\\pc\\.cache\\huggingface\\datasets\\json\\default-c4134806cc436348\\0.0.0\\a3e658c4731e59120d44081ac10bf85dc7e1388126b92338344ce9661907f253\\cache-376b5901e9de7a67.arrow\n",
      "Loading cached processed dataset at C:\\Users\\pc\\.cache\\huggingface\\datasets\\json\\default-259030f4700e3c02\\0.0.0\\a3e658c4731e59120d44081ac10bf85dc7e1388126b92338344ce9661907f253\\cache-19e0a5468af475e5.arrow\n",
      "Loading cached processed dataset at C:\\Users\\pc\\.cache\\huggingface\\datasets\\json\\default-259030f4700e3c02\\0.0.0\\a3e658c4731e59120d44081ac10bf85dc7e1388126b92338344ce9661907f253\\cache-23cffb125c81fed7.arrow\n"
     ]
    }
   ],
   "source": [
    "\n",
    "def map_labels(example):\n",
    "    example['label'] = label2id[example['label']]\n",
    "    return example\n",
    "def tokenize_function(example):\n",
    "    return tokenizer(example[\"sentence1\"], example[\"sentence2\"], truncation=True, padding=True, max_length= 256)\n",
    " \n",
    "\n",
    "train_datasets = train_datasets.map(map_labels)\n",
    "train_datasets = train_datasets.map(tokenize_function, batched=True)\n",
    "\n",
    "test_datasets = test_datasets.map(map_labels)\n",
    "test_datasets = test_datasets.map(tokenize_function, batched=True)\n",
    "\n",
    "dataset_all = DatasetDict({\"train\": train_datasets, \"valid\": test_datasets})\n",
    "data_collator = DataCollatorWithPadding(tokenizer=tokenizer)\n",
    "\n",
    "\n",
    "\n"
   ]
  },
  {
   "cell_type": "code",
   "execution_count": 7,
   "metadata": {},
   "outputs": [
    {
     "name": "stderr",
     "output_type": "stream",
     "text": [
      "Some weights of the model checkpoint at bert-base-chinese were not used when initializing BertForSequenceClassification: ['cls.predictions.transform.dense.bias', 'cls.seq_relationship.weight', 'cls.predictions.transform.LayerNorm.weight', 'cls.predictions.transform.LayerNorm.bias', 'cls.seq_relationship.bias', 'cls.predictions.bias', 'cls.predictions.transform.dense.weight', 'cls.predictions.decoder.weight']\n",
      "- This IS expected if you are initializing BertForSequenceClassification from the checkpoint of a model trained on another task or with another architecture (e.g. initializing a BertForSequenceClassification model from a BertForPreTraining model).\n",
      "- This IS NOT expected if you are initializing BertForSequenceClassification from the checkpoint of a model that you expect to be exactly identical (initializing a BertForSequenceClassification model from a BertForSequenceClassification model).\n",
      "Some weights of BertForSequenceClassification were not initialized from the model checkpoint at bert-base-chinese and are newly initialized: ['classifier.bias', 'classifier.weight']\n",
      "You should probably TRAIN this model on a down-stream task to be able to use it for predictions and inference.\n"
     ]
    }
   ],
   "source": [
    "\n",
    "training_args = TrainingArguments(\"test-trainer\", evaluation_strategy=\"epoch\")\n",
    "model = BertForSequenceClassification.from_pretrained(model_name, num_labels=3)\n",
    " \n",
    "trainer = Trainer(\n",
    "    model,\n",
    "    training_args,\n",
    "    train_dataset=dataset_all[\"train\"],\n",
    "    eval_dataset=dataset_all[\"valid\"],\n",
    "    data_collator=data_collator,\n",
    "    tokenizer=tokenizer,\n",
    ")\n"
   ]
  },
  {
   "cell_type": "code",
   "execution_count": 9,
   "metadata": {},
   "outputs": [
    {
     "name": "stderr",
     "output_type": "stream",
     "text": [
      "The following columns in the training set don't have a corresponding argument in `BertForSequenceClassification.forward` and have been ignored: sentence1, sentence2. If sentence1, sentence2 are not expected by `BertForSequenceClassification.forward`,  you can safely ignore this message.\n",
      "***** Running training *****\n",
      "  Num examples = 96423\n",
      "  Num Epochs = 3\n",
      "  Instantaneous batch size per device = 8\n",
      "  Total train batch size (w. parallel, distributed & accumulation) = 16\n",
      "  Gradient Accumulation steps = 1\n",
      "  Total optimization steps = 18081\n"
     ]
    },
    {
     "data": {
      "application/vnd.jupyter.widget-view+json": {
       "model_id": "03d82b2ffceb48bc82237034997535d4",
       "version_major": 2,
       "version_minor": 0
      },
      "text/plain": [
       "  0%|          | 0/18081 [00:00<?, ?it/s]"
      ]
     },
     "metadata": {},
     "output_type": "display_data"
    },
    {
     "name": "stderr",
     "output_type": "stream",
     "text": [
      "Saving model checkpoint to test-trainer\\checkpoint-500\n",
      "Configuration saved in test-trainer\\checkpoint-500\\config.json\n"
     ]
    },
    {
     "name": "stdout",
     "output_type": "stream",
     "text": [
      "{'loss': 0.652, 'learning_rate': 4.861456777833085e-05, 'epoch': 0.08}\n"
     ]
    },
    {
     "name": "stderr",
     "output_type": "stream",
     "text": [
      "Model weights saved in test-trainer\\checkpoint-500\\pytorch_model.bin\n",
      "tokenizer config file saved in test-trainer\\checkpoint-500\\tokenizer_config.json\n",
      "Special tokens file saved in test-trainer\\checkpoint-500\\special_tokens_map.json\n",
      "D:\\SoftInstall\\Anaconda3\\envs\\pytorch\\lib\\site-packages\\torch\\nn\\parallel\\_functions.py:68: UserWarning: Was asked to gather along dimension 0, but all input tensors were scalars; will instead unsqueeze and return a vector.\n",
      "  warnings.warn('Was asked to gather along dimension 0, but all '\n",
      "D:\\SoftInstall\\Anaconda3\\envs\\pytorch\\lib\\site-packages\\torch\\cuda\\nccl.py:15: UserWarning: PyTorch is not compiled with NCCL support\n",
      "  warnings.warn('PyTorch is not compiled with NCCL support')\n",
      "Saving model checkpoint to test-trainer\\checkpoint-1000\n",
      "Configuration saved in test-trainer\\checkpoint-1000\\config.json\n"
     ]
    },
    {
     "name": "stdout",
     "output_type": "stream",
     "text": [
      "{'loss': 0.5844, 'learning_rate': 4.723190089043748e-05, 'epoch': 0.17}\n"
     ]
    },
    {
     "name": "stderr",
     "output_type": "stream",
     "text": [
      "Model weights saved in test-trainer\\checkpoint-1000\\pytorch_model.bin\n",
      "tokenizer config file saved in test-trainer\\checkpoint-1000\\tokenizer_config.json\n",
      "Special tokens file saved in test-trainer\\checkpoint-1000\\special_tokens_map.json\n",
      "D:\\SoftInstall\\Anaconda3\\envs\\pytorch\\lib\\site-packages\\torch\\nn\\parallel\\_functions.py:68: UserWarning: Was asked to gather along dimension 0, but all input tensors were scalars; will instead unsqueeze and return a vector.\n",
      "  warnings.warn('Was asked to gather along dimension 0, but all '\n",
      "D:\\SoftInstall\\Anaconda3\\envs\\pytorch\\lib\\site-packages\\torch\\cuda\\nccl.py:15: UserWarning: PyTorch is not compiled with NCCL support\n",
      "  warnings.warn('PyTorch is not compiled with NCCL support')\n",
      "Saving model checkpoint to test-trainer\\checkpoint-1500\n",
      "Configuration saved in test-trainer\\checkpoint-1500\\config.json\n"
     ]
    },
    {
     "name": "stdout",
     "output_type": "stream",
     "text": [
      "{'loss': 0.5761, 'learning_rate': 4.584923400254411e-05, 'epoch': 0.25}\n"
     ]
    },
    {
     "name": "stderr",
     "output_type": "stream",
     "text": [
      "Model weights saved in test-trainer\\checkpoint-1500\\pytorch_model.bin\n",
      "tokenizer config file saved in test-trainer\\checkpoint-1500\\tokenizer_config.json\n",
      "Special tokens file saved in test-trainer\\checkpoint-1500\\special_tokens_map.json\n",
      "D:\\SoftInstall\\Anaconda3\\envs\\pytorch\\lib\\site-packages\\torch\\nn\\parallel\\_functions.py:68: UserWarning: Was asked to gather along dimension 0, but all input tensors were scalars; will instead unsqueeze and return a vector.\n",
      "  warnings.warn('Was asked to gather along dimension 0, but all '\n",
      "D:\\SoftInstall\\Anaconda3\\envs\\pytorch\\lib\\site-packages\\torch\\cuda\\nccl.py:15: UserWarning: PyTorch is not compiled with NCCL support\n",
      "  warnings.warn('PyTorch is not compiled with NCCL support')\n",
      "Saving model checkpoint to test-trainer\\checkpoint-2000\n",
      "Configuration saved in test-trainer\\checkpoint-2000\\config.json\n"
     ]
    },
    {
     "name": "stdout",
     "output_type": "stream",
     "text": [
      "{'loss': 0.5652, 'learning_rate': 4.446656711465074e-05, 'epoch': 0.33}\n"
     ]
    },
    {
     "name": "stderr",
     "output_type": "stream",
     "text": [
      "Model weights saved in test-trainer\\checkpoint-2000\\pytorch_model.bin\n",
      "tokenizer config file saved in test-trainer\\checkpoint-2000\\tokenizer_config.json\n",
      "Special tokens file saved in test-trainer\\checkpoint-2000\\special_tokens_map.json\n",
      "D:\\SoftInstall\\Anaconda3\\envs\\pytorch\\lib\\site-packages\\torch\\nn\\parallel\\_functions.py:68: UserWarning: Was asked to gather along dimension 0, but all input tensors were scalars; will instead unsqueeze and return a vector.\n",
      "  warnings.warn('Was asked to gather along dimension 0, but all '\n",
      "D:\\SoftInstall\\Anaconda3\\envs\\pytorch\\lib\\site-packages\\torch\\cuda\\nccl.py:15: UserWarning: PyTorch is not compiled with NCCL support\n",
      "  warnings.warn('PyTorch is not compiled with NCCL support')\n",
      "Saving model checkpoint to test-trainer\\checkpoint-2500\n",
      "Configuration saved in test-trainer\\checkpoint-2500\\config.json\n"
     ]
    },
    {
     "name": "stdout",
     "output_type": "stream",
     "text": [
      "{'loss': 0.5229, 'learning_rate': 4.308390022675737e-05, 'epoch': 0.41}\n"
     ]
    },
    {
     "name": "stderr",
     "output_type": "stream",
     "text": [
      "Model weights saved in test-trainer\\checkpoint-2500\\pytorch_model.bin\n",
      "tokenizer config file saved in test-trainer\\checkpoint-2500\\tokenizer_config.json\n",
      "Special tokens file saved in test-trainer\\checkpoint-2500\\special_tokens_map.json\n",
      "D:\\SoftInstall\\Anaconda3\\envs\\pytorch\\lib\\site-packages\\torch\\nn\\parallel\\_functions.py:68: UserWarning: Was asked to gather along dimension 0, but all input tensors were scalars; will instead unsqueeze and return a vector.\n",
      "  warnings.warn('Was asked to gather along dimension 0, but all '\n",
      "D:\\SoftInstall\\Anaconda3\\envs\\pytorch\\lib\\site-packages\\torch\\cuda\\nccl.py:15: UserWarning: PyTorch is not compiled with NCCL support\n",
      "  warnings.warn('PyTorch is not compiled with NCCL support')\n",
      "Saving model checkpoint to test-trainer\\checkpoint-3000\n",
      "Configuration saved in test-trainer\\checkpoint-3000\\config.json\n"
     ]
    },
    {
     "name": "stdout",
     "output_type": "stream",
     "text": [
      "{'loss': 0.511, 'learning_rate': 4.1701233338864004e-05, 'epoch': 0.5}\n"
     ]
    },
    {
     "name": "stderr",
     "output_type": "stream",
     "text": [
      "Model weights saved in test-trainer\\checkpoint-3000\\pytorch_model.bin\n",
      "tokenizer config file saved in test-trainer\\checkpoint-3000\\tokenizer_config.json\n",
      "Special tokens file saved in test-trainer\\checkpoint-3000\\special_tokens_map.json\n",
      "D:\\SoftInstall\\Anaconda3\\envs\\pytorch\\lib\\site-packages\\torch\\nn\\parallel\\_functions.py:68: UserWarning: Was asked to gather along dimension 0, but all input tensors were scalars; will instead unsqueeze and return a vector.\n",
      "  warnings.warn('Was asked to gather along dimension 0, but all '\n",
      "D:\\SoftInstall\\Anaconda3\\envs\\pytorch\\lib\\site-packages\\torch\\cuda\\nccl.py:15: UserWarning: PyTorch is not compiled with NCCL support\n",
      "  warnings.warn('PyTorch is not compiled with NCCL support')\n",
      "Saving model checkpoint to test-trainer\\checkpoint-3500\n",
      "Configuration saved in test-trainer\\checkpoint-3500\\config.json\n"
     ]
    },
    {
     "name": "stdout",
     "output_type": "stream",
     "text": [
      "{'loss': 0.5052, 'learning_rate': 4.031856645097063e-05, 'epoch': 0.58}\n"
     ]
    },
    {
     "name": "stderr",
     "output_type": "stream",
     "text": [
      "Model weights saved in test-trainer\\checkpoint-3500\\pytorch_model.bin\n",
      "tokenizer config file saved in test-trainer\\checkpoint-3500\\tokenizer_config.json\n",
      "Special tokens file saved in test-trainer\\checkpoint-3500\\special_tokens_map.json\n",
      "D:\\SoftInstall\\Anaconda3\\envs\\pytorch\\lib\\site-packages\\torch\\nn\\parallel\\_functions.py:68: UserWarning: Was asked to gather along dimension 0, but all input tensors were scalars; will instead unsqueeze and return a vector.\n",
      "  warnings.warn('Was asked to gather along dimension 0, but all '\n",
      "D:\\SoftInstall\\Anaconda3\\envs\\pytorch\\lib\\site-packages\\torch\\cuda\\nccl.py:15: UserWarning: PyTorch is not compiled with NCCL support\n",
      "  warnings.warn('PyTorch is not compiled with NCCL support')\n",
      "Saving model checkpoint to test-trainer\\checkpoint-4000\n",
      "Configuration saved in test-trainer\\checkpoint-4000\\config.json\n"
     ]
    },
    {
     "name": "stdout",
     "output_type": "stream",
     "text": [
      "{'loss': 0.4991, 'learning_rate': 3.8935899563077266e-05, 'epoch': 0.66}\n"
     ]
    },
    {
     "name": "stderr",
     "output_type": "stream",
     "text": [
      "Model weights saved in test-trainer\\checkpoint-4000\\pytorch_model.bin\n",
      "tokenizer config file saved in test-trainer\\checkpoint-4000\\tokenizer_config.json\n",
      "Special tokens file saved in test-trainer\\checkpoint-4000\\special_tokens_map.json\n",
      "D:\\SoftInstall\\Anaconda3\\envs\\pytorch\\lib\\site-packages\\torch\\nn\\parallel\\_functions.py:68: UserWarning: Was asked to gather along dimension 0, but all input tensors were scalars; will instead unsqueeze and return a vector.\n",
      "  warnings.warn('Was asked to gather along dimension 0, but all '\n",
      "D:\\SoftInstall\\Anaconda3\\envs\\pytorch\\lib\\site-packages\\torch\\cuda\\nccl.py:15: UserWarning: PyTorch is not compiled with NCCL support\n",
      "  warnings.warn('PyTorch is not compiled with NCCL support')\n",
      "Saving model checkpoint to test-trainer\\checkpoint-4500\n",
      "Configuration saved in test-trainer\\checkpoint-4500\\config.json\n"
     ]
    },
    {
     "name": "stdout",
     "output_type": "stream",
     "text": [
      "{'loss': 0.487, 'learning_rate': 3.75532326751839e-05, 'epoch': 0.75}\n"
     ]
    },
    {
     "name": "stderr",
     "output_type": "stream",
     "text": [
      "Model weights saved in test-trainer\\checkpoint-4500\\pytorch_model.bin\n",
      "tokenizer config file saved in test-trainer\\checkpoint-4500\\tokenizer_config.json\n",
      "Special tokens file saved in test-trainer\\checkpoint-4500\\special_tokens_map.json\n",
      "D:\\SoftInstall\\Anaconda3\\envs\\pytorch\\lib\\site-packages\\torch\\nn\\parallel\\_functions.py:68: UserWarning: Was asked to gather along dimension 0, but all input tensors were scalars; will instead unsqueeze and return a vector.\n",
      "  warnings.warn('Was asked to gather along dimension 0, but all '\n",
      "D:\\SoftInstall\\Anaconda3\\envs\\pytorch\\lib\\site-packages\\torch\\cuda\\nccl.py:15: UserWarning: PyTorch is not compiled with NCCL support\n",
      "  warnings.warn('PyTorch is not compiled with NCCL support')\n",
      "Saving model checkpoint to test-trainer\\checkpoint-5000\n",
      "Configuration saved in test-trainer\\checkpoint-5000\\config.json\n"
     ]
    },
    {
     "name": "stdout",
     "output_type": "stream",
     "text": [
      "{'loss': 0.4773, 'learning_rate': 3.617056578729053e-05, 'epoch': 0.83}\n"
     ]
    },
    {
     "name": "stderr",
     "output_type": "stream",
     "text": [
      "Model weights saved in test-trainer\\checkpoint-5000\\pytorch_model.bin\n",
      "tokenizer config file saved in test-trainer\\checkpoint-5000\\tokenizer_config.json\n",
      "Special tokens file saved in test-trainer\\checkpoint-5000\\special_tokens_map.json\n",
      "D:\\SoftInstall\\Anaconda3\\envs\\pytorch\\lib\\site-packages\\torch\\nn\\parallel\\_functions.py:68: UserWarning: Was asked to gather along dimension 0, but all input tensors were scalars; will instead unsqueeze and return a vector.\n",
      "  warnings.warn('Was asked to gather along dimension 0, but all '\n",
      "D:\\SoftInstall\\Anaconda3\\envs\\pytorch\\lib\\site-packages\\torch\\cuda\\nccl.py:15: UserWarning: PyTorch is not compiled with NCCL support\n",
      "  warnings.warn('PyTorch is not compiled with NCCL support')\n",
      "Saving model checkpoint to test-trainer\\checkpoint-5500\n",
      "Configuration saved in test-trainer\\checkpoint-5500\\config.json\n"
     ]
    },
    {
     "name": "stdout",
     "output_type": "stream",
     "text": [
      "{'loss': 0.4919, 'learning_rate': 3.478789889939716e-05, 'epoch': 0.91}\n"
     ]
    },
    {
     "name": "stderr",
     "output_type": "stream",
     "text": [
      "Model weights saved in test-trainer\\checkpoint-5500\\pytorch_model.bin\n",
      "tokenizer config file saved in test-trainer\\checkpoint-5500\\tokenizer_config.json\n",
      "Special tokens file saved in test-trainer\\checkpoint-5500\\special_tokens_map.json\n",
      "D:\\SoftInstall\\Anaconda3\\envs\\pytorch\\lib\\site-packages\\torch\\nn\\parallel\\_functions.py:68: UserWarning: Was asked to gather along dimension 0, but all input tensors were scalars; will instead unsqueeze and return a vector.\n",
      "  warnings.warn('Was asked to gather along dimension 0, but all '\n",
      "D:\\SoftInstall\\Anaconda3\\envs\\pytorch\\lib\\site-packages\\torch\\cuda\\nccl.py:15: UserWarning: PyTorch is not compiled with NCCL support\n",
      "  warnings.warn('PyTorch is not compiled with NCCL support')\n",
      "Saving model checkpoint to test-trainer\\checkpoint-6000\n",
      "Configuration saved in test-trainer\\checkpoint-6000\\config.json\n"
     ]
    },
    {
     "name": "stdout",
     "output_type": "stream",
     "text": [
      "{'loss': 0.4678, 'learning_rate': 3.340523201150379e-05, 'epoch': 1.0}\n"
     ]
    },
    {
     "name": "stderr",
     "output_type": "stream",
     "text": [
      "Model weights saved in test-trainer\\checkpoint-6000\\pytorch_model.bin\n",
      "tokenizer config file saved in test-trainer\\checkpoint-6000\\tokenizer_config.json\n",
      "Special tokens file saved in test-trainer\\checkpoint-6000\\special_tokens_map.json\n",
      "D:\\SoftInstall\\Anaconda3\\envs\\pytorch\\lib\\site-packages\\torch\\nn\\parallel\\_functions.py:68: UserWarning: Was asked to gather along dimension 0, but all input tensors were scalars; will instead unsqueeze and return a vector.\n",
      "  warnings.warn('Was asked to gather along dimension 0, but all '\n",
      "D:\\SoftInstall\\Anaconda3\\envs\\pytorch\\lib\\site-packages\\torch\\cuda\\nccl.py:15: UserWarning: PyTorch is not compiled with NCCL support\n",
      "  warnings.warn('PyTorch is not compiled with NCCL support')\n",
      "The following columns in the evaluation set don't have a corresponding argument in `BertForSequenceClassification.forward` and have been ignored: sentence1, sentence2. If sentence1, sentence2 are not expected by `BertForSequenceClassification.forward`,  you can safely ignore this message.\n",
      "***** Running Evaluation *****\n",
      "  Num examples = 22974\n",
      "  Batch size = 16\n"
     ]
    },
    {
     "data": {
      "application/vnd.jupyter.widget-view+json": {
       "model_id": "e0c6d4fa3b09461ca82ad12a0819d935",
       "version_major": 2,
       "version_minor": 0
      },
      "text/plain": [
       "  0%|          | 0/1436 [00:00<?, ?it/s]"
      ]
     },
     "metadata": {},
     "output_type": "display_data"
    },
    {
     "name": "stdout",
     "output_type": "stream",
     "text": [
      "{'eval_loss': 0.5304535627365112, 'eval_runtime': 123.676, 'eval_samples_per_second': 185.76, 'eval_steps_per_second': 11.611, 'epoch': 1.0}\n"
     ]
    },
    {
     "name": "stderr",
     "output_type": "stream",
     "text": [
      "Saving model checkpoint to test-trainer\\checkpoint-6500\n",
      "Configuration saved in test-trainer\\checkpoint-6500\\config.json\n"
     ]
    },
    {
     "name": "stdout",
     "output_type": "stream",
     "text": [
      "{'loss': 0.4159, 'learning_rate': 3.202256512361042e-05, 'epoch': 1.08}\n"
     ]
    },
    {
     "name": "stderr",
     "output_type": "stream",
     "text": [
      "Model weights saved in test-trainer\\checkpoint-6500\\pytorch_model.bin\n",
      "tokenizer config file saved in test-trainer\\checkpoint-6500\\tokenizer_config.json\n",
      "Special tokens file saved in test-trainer\\checkpoint-6500\\special_tokens_map.json\n",
      "D:\\SoftInstall\\Anaconda3\\envs\\pytorch\\lib\\site-packages\\torch\\nn\\parallel\\_functions.py:68: UserWarning: Was asked to gather along dimension 0, but all input tensors were scalars; will instead unsqueeze and return a vector.\n",
      "  warnings.warn('Was asked to gather along dimension 0, but all '\n",
      "D:\\SoftInstall\\Anaconda3\\envs\\pytorch\\lib\\site-packages\\torch\\cuda\\nccl.py:15: UserWarning: PyTorch is not compiled with NCCL support\n",
      "  warnings.warn('PyTorch is not compiled with NCCL support')\n",
      "Saving model checkpoint to test-trainer\\checkpoint-7000\n",
      "Configuration saved in test-trainer\\checkpoint-7000\\config.json\n"
     ]
    },
    {
     "name": "stdout",
     "output_type": "stream",
     "text": [
      "{'loss': 0.4286, 'learning_rate': 3.063989823571705e-05, 'epoch': 1.16}\n"
     ]
    },
    {
     "name": "stderr",
     "output_type": "stream",
     "text": [
      "Model weights saved in test-trainer\\checkpoint-7000\\pytorch_model.bin\n",
      "tokenizer config file saved in test-trainer\\checkpoint-7000\\tokenizer_config.json\n",
      "Special tokens file saved in test-trainer\\checkpoint-7000\\special_tokens_map.json\n",
      "D:\\SoftInstall\\Anaconda3\\envs\\pytorch\\lib\\site-packages\\torch\\nn\\parallel\\_functions.py:68: UserWarning: Was asked to gather along dimension 0, but all input tensors were scalars; will instead unsqueeze and return a vector.\n",
      "  warnings.warn('Was asked to gather along dimension 0, but all '\n",
      "D:\\SoftInstall\\Anaconda3\\envs\\pytorch\\lib\\site-packages\\torch\\cuda\\nccl.py:15: UserWarning: PyTorch is not compiled with NCCL support\n",
      "  warnings.warn('PyTorch is not compiled with NCCL support')\n",
      "Saving model checkpoint to test-trainer\\checkpoint-7500\n",
      "Configuration saved in test-trainer\\checkpoint-7500\\config.json\n"
     ]
    },
    {
     "name": "stdout",
     "output_type": "stream",
     "text": [
      "{'loss': 0.4319, 'learning_rate': 2.925723134782368e-05, 'epoch': 1.24}\n"
     ]
    },
    {
     "name": "stderr",
     "output_type": "stream",
     "text": [
      "Model weights saved in test-trainer\\checkpoint-7500\\pytorch_model.bin\n",
      "tokenizer config file saved in test-trainer\\checkpoint-7500\\tokenizer_config.json\n",
      "Special tokens file saved in test-trainer\\checkpoint-7500\\special_tokens_map.json\n",
      "D:\\SoftInstall\\Anaconda3\\envs\\pytorch\\lib\\site-packages\\torch\\nn\\parallel\\_functions.py:68: UserWarning: Was asked to gather along dimension 0, but all input tensors were scalars; will instead unsqueeze and return a vector.\n",
      "  warnings.warn('Was asked to gather along dimension 0, but all '\n",
      "D:\\SoftInstall\\Anaconda3\\envs\\pytorch\\lib\\site-packages\\torch\\cuda\\nccl.py:15: UserWarning: PyTorch is not compiled with NCCL support\n",
      "  warnings.warn('PyTorch is not compiled with NCCL support')\n",
      "Saving model checkpoint to test-trainer\\checkpoint-8000\n",
      "Configuration saved in test-trainer\\checkpoint-8000\\config.json\n"
     ]
    },
    {
     "name": "stdout",
     "output_type": "stream",
     "text": [
      "{'loss': 0.4106, 'learning_rate': 2.7874564459930312e-05, 'epoch': 1.33}\n"
     ]
    },
    {
     "name": "stderr",
     "output_type": "stream",
     "text": [
      "Model weights saved in test-trainer\\checkpoint-8000\\pytorch_model.bin\n",
      "tokenizer config file saved in test-trainer\\checkpoint-8000\\tokenizer_config.json\n",
      "Special tokens file saved in test-trainer\\checkpoint-8000\\special_tokens_map.json\n",
      "D:\\SoftInstall\\Anaconda3\\envs\\pytorch\\lib\\site-packages\\torch\\nn\\parallel\\_functions.py:68: UserWarning: Was asked to gather along dimension 0, but all input tensors were scalars; will instead unsqueeze and return a vector.\n",
      "  warnings.warn('Was asked to gather along dimension 0, but all '\n",
      "D:\\SoftInstall\\Anaconda3\\envs\\pytorch\\lib\\site-packages\\torch\\cuda\\nccl.py:15: UserWarning: PyTorch is not compiled with NCCL support\n",
      "  warnings.warn('PyTorch is not compiled with NCCL support')\n",
      "Saving model checkpoint to test-trainer\\checkpoint-8500\n",
      "Configuration saved in test-trainer\\checkpoint-8500\\config.json\n"
     ]
    },
    {
     "name": "stdout",
     "output_type": "stream",
     "text": [
      "{'loss': 0.4143, 'learning_rate': 2.6491897572036943e-05, 'epoch': 1.41}\n"
     ]
    },
    {
     "name": "stderr",
     "output_type": "stream",
     "text": [
      "Model weights saved in test-trainer\\checkpoint-8500\\pytorch_model.bin\n",
      "tokenizer config file saved in test-trainer\\checkpoint-8500\\tokenizer_config.json\n",
      "Special tokens file saved in test-trainer\\checkpoint-8500\\special_tokens_map.json\n",
      "D:\\SoftInstall\\Anaconda3\\envs\\pytorch\\lib\\site-packages\\torch\\nn\\parallel\\_functions.py:68: UserWarning: Was asked to gather along dimension 0, but all input tensors were scalars; will instead unsqueeze and return a vector.\n",
      "  warnings.warn('Was asked to gather along dimension 0, but all '\n",
      "D:\\SoftInstall\\Anaconda3\\envs\\pytorch\\lib\\site-packages\\torch\\cuda\\nccl.py:15: UserWarning: PyTorch is not compiled with NCCL support\n",
      "  warnings.warn('PyTorch is not compiled with NCCL support')\n",
      "Saving model checkpoint to test-trainer\\checkpoint-9000\n",
      "Configuration saved in test-trainer\\checkpoint-9000\\config.json\n"
     ]
    },
    {
     "name": "stdout",
     "output_type": "stream",
     "text": [
      "{'loss': 0.409, 'learning_rate': 2.5109230684143574e-05, 'epoch': 1.49}\n"
     ]
    },
    {
     "name": "stderr",
     "output_type": "stream",
     "text": [
      "Model weights saved in test-trainer\\checkpoint-9000\\pytorch_model.bin\n",
      "tokenizer config file saved in test-trainer\\checkpoint-9000\\tokenizer_config.json\n",
      "Special tokens file saved in test-trainer\\checkpoint-9000\\special_tokens_map.json\n",
      "D:\\SoftInstall\\Anaconda3\\envs\\pytorch\\lib\\site-packages\\torch\\nn\\parallel\\_functions.py:68: UserWarning: Was asked to gather along dimension 0, but all input tensors were scalars; will instead unsqueeze and return a vector.\n",
      "  warnings.warn('Was asked to gather along dimension 0, but all '\n",
      "D:\\SoftInstall\\Anaconda3\\envs\\pytorch\\lib\\site-packages\\torch\\cuda\\nccl.py:15: UserWarning: PyTorch is not compiled with NCCL support\n",
      "  warnings.warn('PyTorch is not compiled with NCCL support')\n",
      "Saving model checkpoint to test-trainer\\checkpoint-9500\n",
      "Configuration saved in test-trainer\\checkpoint-9500\\config.json\n"
     ]
    },
    {
     "name": "stdout",
     "output_type": "stream",
     "text": [
      "{'loss': 0.4103, 'learning_rate': 2.3726563796250208e-05, 'epoch': 1.58}\n"
     ]
    },
    {
     "name": "stderr",
     "output_type": "stream",
     "text": [
      "Model weights saved in test-trainer\\checkpoint-9500\\pytorch_model.bin\n",
      "tokenizer config file saved in test-trainer\\checkpoint-9500\\tokenizer_config.json\n",
      "Special tokens file saved in test-trainer\\checkpoint-9500\\special_tokens_map.json\n",
      "D:\\SoftInstall\\Anaconda3\\envs\\pytorch\\lib\\site-packages\\torch\\nn\\parallel\\_functions.py:68: UserWarning: Was asked to gather along dimension 0, but all input tensors were scalars; will instead unsqueeze and return a vector.\n",
      "  warnings.warn('Was asked to gather along dimension 0, but all '\n",
      "D:\\SoftInstall\\Anaconda3\\envs\\pytorch\\lib\\site-packages\\torch\\cuda\\nccl.py:15: UserWarning: PyTorch is not compiled with NCCL support\n",
      "  warnings.warn('PyTorch is not compiled with NCCL support')\n",
      "Saving model checkpoint to test-trainer\\checkpoint-10000\n",
      "Configuration saved in test-trainer\\checkpoint-10000\\config.json\n"
     ]
    },
    {
     "name": "stdout",
     "output_type": "stream",
     "text": [
      "{'loss': 0.4032, 'learning_rate': 2.234389690835684e-05, 'epoch': 1.66}\n"
     ]
    },
    {
     "name": "stderr",
     "output_type": "stream",
     "text": [
      "Model weights saved in test-trainer\\checkpoint-10000\\pytorch_model.bin\n",
      "tokenizer config file saved in test-trainer\\checkpoint-10000\\tokenizer_config.json\n",
      "Special tokens file saved in test-trainer\\checkpoint-10000\\special_tokens_map.json\n",
      "D:\\SoftInstall\\Anaconda3\\envs\\pytorch\\lib\\site-packages\\torch\\nn\\parallel\\_functions.py:68: UserWarning: Was asked to gather along dimension 0, but all input tensors were scalars; will instead unsqueeze and return a vector.\n",
      "  warnings.warn('Was asked to gather along dimension 0, but all '\n",
      "D:\\SoftInstall\\Anaconda3\\envs\\pytorch\\lib\\site-packages\\torch\\cuda\\nccl.py:15: UserWarning: PyTorch is not compiled with NCCL support\n",
      "  warnings.warn('PyTorch is not compiled with NCCL support')\n",
      "Saving model checkpoint to test-trainer\\checkpoint-10500\n",
      "Configuration saved in test-trainer\\checkpoint-10500\\config.json\n"
     ]
    },
    {
     "name": "stdout",
     "output_type": "stream",
     "text": [
      "{'loss': 0.4139, 'learning_rate': 2.096123002046347e-05, 'epoch': 1.74}\n"
     ]
    },
    {
     "name": "stderr",
     "output_type": "stream",
     "text": [
      "Model weights saved in test-trainer\\checkpoint-10500\\pytorch_model.bin\n",
      "tokenizer config file saved in test-trainer\\checkpoint-10500\\tokenizer_config.json\n",
      "Special tokens file saved in test-trainer\\checkpoint-10500\\special_tokens_map.json\n",
      "D:\\SoftInstall\\Anaconda3\\envs\\pytorch\\lib\\site-packages\\torch\\nn\\parallel\\_functions.py:68: UserWarning: Was asked to gather along dimension 0, but all input tensors were scalars; will instead unsqueeze and return a vector.\n",
      "  warnings.warn('Was asked to gather along dimension 0, but all '\n",
      "D:\\SoftInstall\\Anaconda3\\envs\\pytorch\\lib\\site-packages\\torch\\cuda\\nccl.py:15: UserWarning: PyTorch is not compiled with NCCL support\n",
      "  warnings.warn('PyTorch is not compiled with NCCL support')\n",
      "Saving model checkpoint to test-trainer\\checkpoint-11000\n",
      "Configuration saved in test-trainer\\checkpoint-11000\\config.json\n"
     ]
    },
    {
     "name": "stdout",
     "output_type": "stream",
     "text": [
      "{'loss': 0.4041, 'learning_rate': 1.95785631325701e-05, 'epoch': 1.83}\n"
     ]
    },
    {
     "name": "stderr",
     "output_type": "stream",
     "text": [
      "Model weights saved in test-trainer\\checkpoint-11000\\pytorch_model.bin\n",
      "tokenizer config file saved in test-trainer\\checkpoint-11000\\tokenizer_config.json\n",
      "Special tokens file saved in test-trainer\\checkpoint-11000\\special_tokens_map.json\n",
      "D:\\SoftInstall\\Anaconda3\\envs\\pytorch\\lib\\site-packages\\torch\\nn\\parallel\\_functions.py:68: UserWarning: Was asked to gather along dimension 0, but all input tensors were scalars; will instead unsqueeze and return a vector.\n",
      "  warnings.warn('Was asked to gather along dimension 0, but all '\n",
      "D:\\SoftInstall\\Anaconda3\\envs\\pytorch\\lib\\site-packages\\torch\\cuda\\nccl.py:15: UserWarning: PyTorch is not compiled with NCCL support\n",
      "  warnings.warn('PyTorch is not compiled with NCCL support')\n",
      "Saving model checkpoint to test-trainer\\checkpoint-11500\n",
      "Configuration saved in test-trainer\\checkpoint-11500\\config.json\n"
     ]
    },
    {
     "name": "stdout",
     "output_type": "stream",
     "text": [
      "{'loss': 0.4038, 'learning_rate': 1.8195896244676734e-05, 'epoch': 1.91}\n"
     ]
    },
    {
     "name": "stderr",
     "output_type": "stream",
     "text": [
      "Model weights saved in test-trainer\\checkpoint-11500\\pytorch_model.bin\n",
      "tokenizer config file saved in test-trainer\\checkpoint-11500\\tokenizer_config.json\n",
      "Special tokens file saved in test-trainer\\checkpoint-11500\\special_tokens_map.json\n",
      "D:\\SoftInstall\\Anaconda3\\envs\\pytorch\\lib\\site-packages\\torch\\nn\\parallel\\_functions.py:68: UserWarning: Was asked to gather along dimension 0, but all input tensors were scalars; will instead unsqueeze and return a vector.\n",
      "  warnings.warn('Was asked to gather along dimension 0, but all '\n",
      "D:\\SoftInstall\\Anaconda3\\envs\\pytorch\\lib\\site-packages\\torch\\cuda\\nccl.py:15: UserWarning: PyTorch is not compiled with NCCL support\n",
      "  warnings.warn('PyTorch is not compiled with NCCL support')\n",
      "Saving model checkpoint to test-trainer\\checkpoint-12000\n",
      "Configuration saved in test-trainer\\checkpoint-12000\\config.json\n"
     ]
    },
    {
     "name": "stdout",
     "output_type": "stream",
     "text": [
      "{'loss': 0.3938, 'learning_rate': 1.6813229356783365e-05, 'epoch': 1.99}\n"
     ]
    },
    {
     "name": "stderr",
     "output_type": "stream",
     "text": [
      "Model weights saved in test-trainer\\checkpoint-12000\\pytorch_model.bin\n",
      "tokenizer config file saved in test-trainer\\checkpoint-12000\\tokenizer_config.json\n",
      "Special tokens file saved in test-trainer\\checkpoint-12000\\special_tokens_map.json\n",
      "D:\\SoftInstall\\Anaconda3\\envs\\pytorch\\lib\\site-packages\\torch\\nn\\parallel\\_functions.py:68: UserWarning: Was asked to gather along dimension 0, but all input tensors were scalars; will instead unsqueeze and return a vector.\n",
      "  warnings.warn('Was asked to gather along dimension 0, but all '\n",
      "D:\\SoftInstall\\Anaconda3\\envs\\pytorch\\lib\\site-packages\\torch\\cuda\\nccl.py:15: UserWarning: PyTorch is not compiled with NCCL support\n",
      "  warnings.warn('PyTorch is not compiled with NCCL support')\n",
      "The following columns in the evaluation set don't have a corresponding argument in `BertForSequenceClassification.forward` and have been ignored: sentence1, sentence2. If sentence1, sentence2 are not expected by `BertForSequenceClassification.forward`,  you can safely ignore this message.\n",
      "***** Running Evaluation *****\n",
      "  Num examples = 22974\n",
      "  Batch size = 16\n"
     ]
    },
    {
     "data": {
      "application/vnd.jupyter.widget-view+json": {
       "model_id": "58078af8add342fba199615630f5bbfe",
       "version_major": 2,
       "version_minor": 0
      },
      "text/plain": [
       "  0%|          | 0/1436 [00:00<?, ?it/s]"
      ]
     },
     "metadata": {},
     "output_type": "display_data"
    },
    {
     "name": "stdout",
     "output_type": "stream",
     "text": [
      "{'eval_loss': 0.5110684633255005, 'eval_runtime': 123.712, 'eval_samples_per_second': 185.706, 'eval_steps_per_second': 11.608, 'epoch': 2.0}\n"
     ]
    },
    {
     "name": "stderr",
     "output_type": "stream",
     "text": [
      "Saving model checkpoint to test-trainer\\checkpoint-12500\n",
      "Configuration saved in test-trainer\\checkpoint-12500\\config.json\n"
     ]
    },
    {
     "name": "stdout",
     "output_type": "stream",
     "text": [
      "{'loss': 0.341, 'learning_rate': 1.5430562468889996e-05, 'epoch': 2.07}\n"
     ]
    },
    {
     "name": "stderr",
     "output_type": "stream",
     "text": [
      "Model weights saved in test-trainer\\checkpoint-12500\\pytorch_model.bin\n",
      "tokenizer config file saved in test-trainer\\checkpoint-12500\\tokenizer_config.json\n",
      "Special tokens file saved in test-trainer\\checkpoint-12500\\special_tokens_map.json\n",
      "D:\\SoftInstall\\Anaconda3\\envs\\pytorch\\lib\\site-packages\\torch\\nn\\parallel\\_functions.py:68: UserWarning: Was asked to gather along dimension 0, but all input tensors were scalars; will instead unsqueeze and return a vector.\n",
      "  warnings.warn('Was asked to gather along dimension 0, but all '\n",
      "D:\\SoftInstall\\Anaconda3\\envs\\pytorch\\lib\\site-packages\\torch\\cuda\\nccl.py:15: UserWarning: PyTorch is not compiled with NCCL support\n",
      "  warnings.warn('PyTorch is not compiled with NCCL support')\n",
      "Saving model checkpoint to test-trainer\\checkpoint-13000\n",
      "Configuration saved in test-trainer\\checkpoint-13000\\config.json\n"
     ]
    },
    {
     "name": "stdout",
     "output_type": "stream",
     "text": [
      "{'loss': 0.3175, 'learning_rate': 1.4047895580996625e-05, 'epoch': 2.16}\n"
     ]
    },
    {
     "name": "stderr",
     "output_type": "stream",
     "text": [
      "Model weights saved in test-trainer\\checkpoint-13000\\pytorch_model.bin\n",
      "tokenizer config file saved in test-trainer\\checkpoint-13000\\tokenizer_config.json\n",
      "Special tokens file saved in test-trainer\\checkpoint-13000\\special_tokens_map.json\n",
      "D:\\SoftInstall\\Anaconda3\\envs\\pytorch\\lib\\site-packages\\torch\\nn\\parallel\\_functions.py:68: UserWarning: Was asked to gather along dimension 0, but all input tensors were scalars; will instead unsqueeze and return a vector.\n",
      "  warnings.warn('Was asked to gather along dimension 0, but all '\n",
      "D:\\SoftInstall\\Anaconda3\\envs\\pytorch\\lib\\site-packages\\torch\\cuda\\nccl.py:15: UserWarning: PyTorch is not compiled with NCCL support\n",
      "  warnings.warn('PyTorch is not compiled with NCCL support')\n",
      "Saving model checkpoint to test-trainer\\checkpoint-13500\n",
      "Configuration saved in test-trainer\\checkpoint-13500\\config.json\n"
     ]
    },
    {
     "name": "stdout",
     "output_type": "stream",
     "text": [
      "{'loss': 0.3256, 'learning_rate': 1.266522869310326e-05, 'epoch': 2.24}\n"
     ]
    },
    {
     "name": "stderr",
     "output_type": "stream",
     "text": [
      "Model weights saved in test-trainer\\checkpoint-13500\\pytorch_model.bin\n",
      "tokenizer config file saved in test-trainer\\checkpoint-13500\\tokenizer_config.json\n",
      "Special tokens file saved in test-trainer\\checkpoint-13500\\special_tokens_map.json\n",
      "D:\\SoftInstall\\Anaconda3\\envs\\pytorch\\lib\\site-packages\\torch\\nn\\parallel\\_functions.py:68: UserWarning: Was asked to gather along dimension 0, but all input tensors were scalars; will instead unsqueeze and return a vector.\n",
      "  warnings.warn('Was asked to gather along dimension 0, but all '\n",
      "D:\\SoftInstall\\Anaconda3\\envs\\pytorch\\lib\\site-packages\\torch\\cuda\\nccl.py:15: UserWarning: PyTorch is not compiled with NCCL support\n",
      "  warnings.warn('PyTorch is not compiled with NCCL support')\n",
      "Saving model checkpoint to test-trainer\\checkpoint-14000\n",
      "Configuration saved in test-trainer\\checkpoint-14000\\config.json\n"
     ]
    },
    {
     "name": "stdout",
     "output_type": "stream",
     "text": [
      "{'loss': 0.3408, 'learning_rate': 1.1282561805209888e-05, 'epoch': 2.32}\n"
     ]
    },
    {
     "name": "stderr",
     "output_type": "stream",
     "text": [
      "Model weights saved in test-trainer\\checkpoint-14000\\pytorch_model.bin\n",
      "tokenizer config file saved in test-trainer\\checkpoint-14000\\tokenizer_config.json\n",
      "Special tokens file saved in test-trainer\\checkpoint-14000\\special_tokens_map.json\n",
      "D:\\SoftInstall\\Anaconda3\\envs\\pytorch\\lib\\site-packages\\torch\\nn\\parallel\\_functions.py:68: UserWarning: Was asked to gather along dimension 0, but all input tensors were scalars; will instead unsqueeze and return a vector.\n",
      "  warnings.warn('Was asked to gather along dimension 0, but all '\n",
      "D:\\SoftInstall\\Anaconda3\\envs\\pytorch\\lib\\site-packages\\torch\\cuda\\nccl.py:15: UserWarning: PyTorch is not compiled with NCCL support\n",
      "  warnings.warn('PyTorch is not compiled with NCCL support')\n",
      "Saving model checkpoint to test-trainer\\checkpoint-14500\n",
      "Configuration saved in test-trainer\\checkpoint-14500\\config.json\n"
     ]
    },
    {
     "name": "stdout",
     "output_type": "stream",
     "text": [
      "{'loss': 0.3339, 'learning_rate': 9.899894917316521e-06, 'epoch': 2.41}\n"
     ]
    },
    {
     "name": "stderr",
     "output_type": "stream",
     "text": [
      "Model weights saved in test-trainer\\checkpoint-14500\\pytorch_model.bin\n",
      "tokenizer config file saved in test-trainer\\checkpoint-14500\\tokenizer_config.json\n",
      "Special tokens file saved in test-trainer\\checkpoint-14500\\special_tokens_map.json\n",
      "D:\\SoftInstall\\Anaconda3\\envs\\pytorch\\lib\\site-packages\\torch\\nn\\parallel\\_functions.py:68: UserWarning: Was asked to gather along dimension 0, but all input tensors were scalars; will instead unsqueeze and return a vector.\n",
      "  warnings.warn('Was asked to gather along dimension 0, but all '\n",
      "D:\\SoftInstall\\Anaconda3\\envs\\pytorch\\lib\\site-packages\\torch\\cuda\\nccl.py:15: UserWarning: PyTorch is not compiled with NCCL support\n",
      "  warnings.warn('PyTorch is not compiled with NCCL support')\n",
      "Saving model checkpoint to test-trainer\\checkpoint-15000\n",
      "Configuration saved in test-trainer\\checkpoint-15000\\config.json\n"
     ]
    },
    {
     "name": "stdout",
     "output_type": "stream",
     "text": [
      "{'loss': 0.3174, 'learning_rate': 8.517228029423152e-06, 'epoch': 2.49}\n"
     ]
    },
    {
     "name": "stderr",
     "output_type": "stream",
     "text": [
      "Model weights saved in test-trainer\\checkpoint-15000\\pytorch_model.bin\n",
      "tokenizer config file saved in test-trainer\\checkpoint-15000\\tokenizer_config.json\n",
      "Special tokens file saved in test-trainer\\checkpoint-15000\\special_tokens_map.json\n",
      "D:\\SoftInstall\\Anaconda3\\envs\\pytorch\\lib\\site-packages\\torch\\nn\\parallel\\_functions.py:68: UserWarning: Was asked to gather along dimension 0, but all input tensors were scalars; will instead unsqueeze and return a vector.\n",
      "  warnings.warn('Was asked to gather along dimension 0, but all '\n",
      "D:\\SoftInstall\\Anaconda3\\envs\\pytorch\\lib\\site-packages\\torch\\cuda\\nccl.py:15: UserWarning: PyTorch is not compiled with NCCL support\n",
      "  warnings.warn('PyTorch is not compiled with NCCL support')\n",
      "Saving model checkpoint to test-trainer\\checkpoint-15500\n",
      "Configuration saved in test-trainer\\checkpoint-15500\\config.json\n"
     ]
    },
    {
     "name": "stdout",
     "output_type": "stream",
     "text": [
      "{'loss': 0.3241, 'learning_rate': 7.134561141529783e-06, 'epoch': 2.57}\n"
     ]
    },
    {
     "name": "stderr",
     "output_type": "stream",
     "text": [
      "Model weights saved in test-trainer\\checkpoint-15500\\pytorch_model.bin\n",
      "tokenizer config file saved in test-trainer\\checkpoint-15500\\tokenizer_config.json\n",
      "Special tokens file saved in test-trainer\\checkpoint-15500\\special_tokens_map.json\n",
      "D:\\SoftInstall\\Anaconda3\\envs\\pytorch\\lib\\site-packages\\torch\\nn\\parallel\\_functions.py:68: UserWarning: Was asked to gather along dimension 0, but all input tensors were scalars; will instead unsqueeze and return a vector.\n",
      "  warnings.warn('Was asked to gather along dimension 0, but all '\n",
      "D:\\SoftInstall\\Anaconda3\\envs\\pytorch\\lib\\site-packages\\torch\\cuda\\nccl.py:15: UserWarning: PyTorch is not compiled with NCCL support\n",
      "  warnings.warn('PyTorch is not compiled with NCCL support')\n",
      "Saving model checkpoint to test-trainer\\checkpoint-16000\n",
      "Configuration saved in test-trainer\\checkpoint-16000\\config.json\n"
     ]
    },
    {
     "name": "stdout",
     "output_type": "stream",
     "text": [
      "{'loss': 0.3235, 'learning_rate': 5.751894253636414e-06, 'epoch': 2.65}\n"
     ]
    },
    {
     "name": "stderr",
     "output_type": "stream",
     "text": [
      "Model weights saved in test-trainer\\checkpoint-16000\\pytorch_model.bin\n",
      "tokenizer config file saved in test-trainer\\checkpoint-16000\\tokenizer_config.json\n",
      "Special tokens file saved in test-trainer\\checkpoint-16000\\special_tokens_map.json\n",
      "D:\\SoftInstall\\Anaconda3\\envs\\pytorch\\lib\\site-packages\\torch\\nn\\parallel\\_functions.py:68: UserWarning: Was asked to gather along dimension 0, but all input tensors were scalars; will instead unsqueeze and return a vector.\n",
      "  warnings.warn('Was asked to gather along dimension 0, but all '\n",
      "D:\\SoftInstall\\Anaconda3\\envs\\pytorch\\lib\\site-packages\\torch\\cuda\\nccl.py:15: UserWarning: PyTorch is not compiled with NCCL support\n",
      "  warnings.warn('PyTorch is not compiled with NCCL support')\n",
      "Saving model checkpoint to test-trainer\\checkpoint-16500\n",
      "Configuration saved in test-trainer\\checkpoint-16500\\config.json\n"
     ]
    },
    {
     "name": "stdout",
     "output_type": "stream",
     "text": [
      "{'loss': 0.3245, 'learning_rate': 4.369227365743046e-06, 'epoch': 2.74}\n"
     ]
    },
    {
     "name": "stderr",
     "output_type": "stream",
     "text": [
      "Model weights saved in test-trainer\\checkpoint-16500\\pytorch_model.bin\n",
      "tokenizer config file saved in test-trainer\\checkpoint-16500\\tokenizer_config.json\n",
      "Special tokens file saved in test-trainer\\checkpoint-16500\\special_tokens_map.json\n",
      "D:\\SoftInstall\\Anaconda3\\envs\\pytorch\\lib\\site-packages\\torch\\nn\\parallel\\_functions.py:68: UserWarning: Was asked to gather along dimension 0, but all input tensors were scalars; will instead unsqueeze and return a vector.\n",
      "  warnings.warn('Was asked to gather along dimension 0, but all '\n",
      "D:\\SoftInstall\\Anaconda3\\envs\\pytorch\\lib\\site-packages\\torch\\cuda\\nccl.py:15: UserWarning: PyTorch is not compiled with NCCL support\n",
      "  warnings.warn('PyTorch is not compiled with NCCL support')\n",
      "Saving model checkpoint to test-trainer\\checkpoint-17000\n",
      "Configuration saved in test-trainer\\checkpoint-17000\\config.json\n"
     ]
    },
    {
     "name": "stdout",
     "output_type": "stream",
     "text": [
      "{'loss': 0.2953, 'learning_rate': 2.9865604778496766e-06, 'epoch': 2.82}\n"
     ]
    },
    {
     "name": "stderr",
     "output_type": "stream",
     "text": [
      "Model weights saved in test-trainer\\checkpoint-17000\\pytorch_model.bin\n",
      "tokenizer config file saved in test-trainer\\checkpoint-17000\\tokenizer_config.json\n",
      "Special tokens file saved in test-trainer\\checkpoint-17000\\special_tokens_map.json\n",
      "D:\\SoftInstall\\Anaconda3\\envs\\pytorch\\lib\\site-packages\\torch\\nn\\parallel\\_functions.py:68: UserWarning: Was asked to gather along dimension 0, but all input tensors were scalars; will instead unsqueeze and return a vector.\n",
      "  warnings.warn('Was asked to gather along dimension 0, but all '\n",
      "D:\\SoftInstall\\Anaconda3\\envs\\pytorch\\lib\\site-packages\\torch\\cuda\\nccl.py:15: UserWarning: PyTorch is not compiled with NCCL support\n",
      "  warnings.warn('PyTorch is not compiled with NCCL support')\n",
      "Saving model checkpoint to test-trainer\\checkpoint-17500\n",
      "Configuration saved in test-trainer\\checkpoint-17500\\config.json\n"
     ]
    },
    {
     "name": "stdout",
     "output_type": "stream",
     "text": [
      "{'loss': 0.3122, 'learning_rate': 1.6038935899563078e-06, 'epoch': 2.9}\n"
     ]
    },
    {
     "name": "stderr",
     "output_type": "stream",
     "text": [
      "Model weights saved in test-trainer\\checkpoint-17500\\pytorch_model.bin\n",
      "tokenizer config file saved in test-trainer\\checkpoint-17500\\tokenizer_config.json\n",
      "Special tokens file saved in test-trainer\\checkpoint-17500\\special_tokens_map.json\n",
      "D:\\SoftInstall\\Anaconda3\\envs\\pytorch\\lib\\site-packages\\torch\\nn\\parallel\\_functions.py:68: UserWarning: Was asked to gather along dimension 0, but all input tensors were scalars; will instead unsqueeze and return a vector.\n",
      "  warnings.warn('Was asked to gather along dimension 0, but all '\n",
      "D:\\SoftInstall\\Anaconda3\\envs\\pytorch\\lib\\site-packages\\torch\\cuda\\nccl.py:15: UserWarning: PyTorch is not compiled with NCCL support\n",
      "  warnings.warn('PyTorch is not compiled with NCCL support')\n",
      "Saving model checkpoint to test-trainer\\checkpoint-18000\n",
      "Configuration saved in test-trainer\\checkpoint-18000\\config.json\n"
     ]
    },
    {
     "name": "stdout",
     "output_type": "stream",
     "text": [
      "{'loss': 0.3142, 'learning_rate': 2.2122670206293903e-07, 'epoch': 2.99}\n"
     ]
    },
    {
     "name": "stderr",
     "output_type": "stream",
     "text": [
      "Model weights saved in test-trainer\\checkpoint-18000\\pytorch_model.bin\n",
      "tokenizer config file saved in test-trainer\\checkpoint-18000\\tokenizer_config.json\n",
      "Special tokens file saved in test-trainer\\checkpoint-18000\\special_tokens_map.json\n",
      "D:\\SoftInstall\\Anaconda3\\envs\\pytorch\\lib\\site-packages\\torch\\nn\\parallel\\_functions.py:68: UserWarning: Was asked to gather along dimension 0, but all input tensors were scalars; will instead unsqueeze and return a vector.\n",
      "  warnings.warn('Was asked to gather along dimension 0, but all '\n",
      "D:\\SoftInstall\\Anaconda3\\envs\\pytorch\\lib\\site-packages\\torch\\cuda\\nccl.py:15: UserWarning: PyTorch is not compiled with NCCL support\n",
      "  warnings.warn('PyTorch is not compiled with NCCL support')\n",
      "The following columns in the evaluation set don't have a corresponding argument in `BertForSequenceClassification.forward` and have been ignored: sentence1, sentence2. If sentence1, sentence2 are not expected by `BertForSequenceClassification.forward`,  you can safely ignore this message.\n",
      "***** Running Evaluation *****\n",
      "  Num examples = 22974\n",
      "  Batch size = 16\n"
     ]
    },
    {
     "data": {
      "application/vnd.jupyter.widget-view+json": {
       "model_id": "312a1794aa7a483bb26d1159980087de",
       "version_major": 2,
       "version_minor": 0
      },
      "text/plain": [
       "  0%|          | 0/1436 [00:00<?, ?it/s]"
      ]
     },
     "metadata": {},
     "output_type": "display_data"
    },
    {
     "name": "stderr",
     "output_type": "stream",
     "text": [
      "\n",
      "\n",
      "Training completed. Do not forget to share your model on huggingface.co/models =)\n",
      "\n",
      "\n"
     ]
    },
    {
     "name": "stdout",
     "output_type": "stream",
     "text": [
      "{'eval_loss': 0.5201207995414734, 'eval_runtime': 123.419, 'eval_samples_per_second': 186.146, 'eval_steps_per_second': 11.635, 'epoch': 3.0}\n",
      "{'train_runtime': 6012.0692, 'train_samples_per_second': 48.115, 'train_steps_per_second': 3.007, 'train_loss': 0.4203537940504303, 'epoch': 3.0}\n"
     ]
    },
    {
     "data": {
      "text/plain": [
       "TrainOutput(global_step=18081, training_loss=0.4203537940504303, metrics={'train_runtime': 6012.0692, 'train_samples_per_second': 48.115, 'train_steps_per_second': 3.007, 'train_loss': 0.4203537940504303, 'epoch': 3.0})"
      ]
     },
     "execution_count": 9,
     "metadata": {},
     "output_type": "execute_result"
    }
   ],
   "source": [
    "trainer.train() #单卡训练慢\n",
    "# max_len = len(dataset_all['train']['label'])\n",
    "# max_len\n",
    "# dataset_all['train']['label']# 0:58525 1:31891 2:6007\n",
    "# for i,data in enumerate(dataset_all['train']['input_ids']):\n",
    "#     # print(len(data))\n",
    "#     # break\n",
    "#     # if len(data)!=81:\n",
    "#     print(i,len(data))"
   ]
  },
  {
   "cell_type": "code",
   "execution_count": 10,
   "metadata": {},
   "outputs": [
    {
     "name": "stderr",
     "output_type": "stream",
     "text": [
      "The following columns in the test set don't have a corresponding argument in `BertForSequenceClassification.forward` and have been ignored: sentence1, sentence2. If sentence1, sentence2 are not expected by `BertForSequenceClassification.forward`,  you can safely ignore this message.\n",
      "***** Running Prediction *****\n",
      "  Num examples = 22974\n",
      "  Batch size = 16\n"
     ]
    },
    {
     "data": {
      "application/vnd.jupyter.widget-view+json": {
       "model_id": "305f6f25ae724d68863bd7d514015697",
       "version_major": 2,
       "version_minor": 0
      },
      "text/plain": [
       "  0%|          | 0/1436 [00:00<?, ?it/s]"
      ]
     },
     "metadata": {},
     "output_type": "display_data"
    },
    {
     "name": "stdout",
     "output_type": "stream",
     "text": [
      "(22974, 3)\n"
     ]
    }
   ],
   "source": [
    "predictions = trainer.predict(dataset_all[\"valid\"])\n",
    "print(predictions.predictions.shape) "
   ]
  },
  {
   "cell_type": "code",
   "execution_count": 17,
   "metadata": {},
   "outputs": [
    {
     "name": "stdout",
     "output_type": "stream",
     "text": [
      "(22974,)\n",
      "{'test_loss': 0.5201207995414734, 'test_runtime': 131.394, 'test_samples_per_second': 174.848, 'test_steps_per_second': 10.929}\n",
      "(22974, 3)\n"
     ]
    }
   ],
   "source": [
    "print(predictions.label_ids.shape) # array([1, 0, 0, 1, 0, 1, 0, 1, 1, 1, ...], dtype=int64)\n",
    "print(predictions.metrics)\n",
    "#pre = np.argmax(predictions.predictions, axis = 2)\n",
    "print(predictions.predictions.shape)\n",
    "pre = np.argmax(predictions.predictions, axis = 1)"
   ]
  },
  {
   "cell_type": "code",
   "execution_count": 18,
   "metadata": {},
   "outputs": [
    {
     "data": {
      "text/plain": [
       "0.8159223470009576"
      ]
     },
     "execution_count": 18,
     "metadata": {},
     "output_type": "execute_result"
    }
   ],
   "source": [
    "\n",
    "correct =(pre == predictions.label_ids).sum().item()/len(pre)\n",
    "correct                 "
   ]
  },
  {
   "cell_type": "markdown",
   "metadata": {},
   "source": [
    "预测准确率：0.8159\n",
    "eval_loss: 0.5201207995414734\n",
    "'loss': 0.3142,\n",
    "'learning_rate': 2.2122670206293903e-07,\n",
    "'epoch': 2.99\n"
   ]
  },
  {
   "cell_type": "markdown",
   "metadata": {},
   "source": [
    "# 不使用trainer，自己多卡训练"
   ]
  },
  {
   "cell_type": "code",
   "execution_count": null,
   "metadata": {},
   "outputs": [
    {
     "name": "stdout",
     "output_type": "stream",
     "text": [
      "(96423,)\n"
     ]
    }
   ],
   "source": [
    "from torch.utils.data import TensorDataset, DataLoader\n",
    "BATCH_SIZE = 64\n",
    "# 这里不用map，因为map只对一个batch做pad,要用tensordataset的话需要对所有数据做pad\n",
    "# train_datasets = load_dataset(\"json\", data_files=[\"./GeoEAG_data/train.json\"])['train']\n",
    "# test_datasets = load_dataset(\"json\", data_files=[\"./GeoEAG_data/val.json\"])['train']\n",
    "\n",
    "train_encodings = tokenizer([[example[\"sentence1\"], example[\"sentence2\"]] for example in iter(train_datasets)], truncation=True, padding=True)\n",
    "train_encodings['label'] = train_datasets['label']\n",
    "\n",
    "test_encodings = tokenizer([[example[\"sentence1\"], example[\"sentence2\"]] for example in iter(test_datasets)], truncation=True, padding=True)\n",
    "test_encodings['label'] = test_datasets['label']\n",
    "print(np.array(train_encodings['label']).shape)\n"
   ]
  },
  {
   "cell_type": "code",
   "execution_count": null,
   "metadata": {},
   "outputs": [],
   "source": [
    "def map_labels(example):\n",
    "    example['label'] = label2id[example['label']]\n",
    "    return example\n",
    "\n",
    "\n",
    "train_encodings['label'] = [label2id[data] for data in train_encodings['label']]\n",
    "test_encodings['label'] = [label2id[data] for data in test_encodings['label']]\n",
    "\n",
    "tensor_train_dataset = TensorDataset(torch.tensor(train_encodings['input_ids']), torch.tensor(train_encodings['attention_mask']),\n",
    "                torch.tensor(train_encodings['token_type_ids']), torch.tensor(train_encodings['label'] ).unsqueeze(1))\n",
    "tensor_test_dataset = TensorDataset(torch.tensor(test_encodings['input_ids']), torch.tensor(test_encodings['attention_mask']),\n",
    "                torch.tensor(test_encodings['token_type_ids']), torch.tensor(test_encodings['label'] ).unsqueeze(1))\n",
    "# # np.array(dataset_all['train']['label']).shape\n",
    "# # torch.tensor(dataset_all['train']['label']).unsqueeze(1).shape\n",
    "# # torch.tensor(train_datasets['attention_mask'])\n",
    "# # [[example[\"sentence1\"], example[\"sentence2\"]] for example in iter(train_datasets)]\n",
    "# #max_len = len(train_encodings['input_ids'][0])\n",
    "# test_encodings['label']"
   ]
  },
  {
   "cell_type": "code",
   "execution_count": null,
   "metadata": {},
   "outputs": [],
   "source": []
  },
  {
   "cell_type": "code",
   "execution_count": null,
   "metadata": {},
   "outputs": [
    {
     "name": "stderr",
     "output_type": "stream",
     "text": [
      "Some weights of the model checkpoint at bert-base-chinese were not used when initializing BertForSequenceClassification: ['cls.predictions.transform.dense.weight', 'cls.predictions.transform.dense.bias', 'cls.seq_relationship.bias', 'cls.predictions.transform.LayerNorm.bias', 'cls.predictions.decoder.weight', 'cls.predictions.bias', 'cls.predictions.transform.LayerNorm.weight', 'cls.seq_relationship.weight']\n",
      "- This IS expected if you are initializing BertForSequenceClassification from the checkpoint of a model trained on another task or with another architecture (e.g. initializing a BertForSequenceClassification model from a BertForPreTraining model).\n",
      "- This IS NOT expected if you are initializing BertForSequenceClassification from the checkpoint of a model that you expect to be exactly identical (initializing a BertForSequenceClassification model from a BertForSequenceClassification model).\n",
      "Some weights of BertForSequenceClassification were not initialized from the model checkpoint at bert-base-chinese and are newly initialized: ['classifier.weight', 'classifier.bias']\n",
      "You should probably TRAIN this model on a down-stream task to be able to use it for predictions and inference.\n"
     ]
    }
   ],
   "source": [
    "\n",
    "trainloader = DataLoader(tensor_train_dataset, batch_size=BATCH_SIZE, shuffle=True)\n",
    "validloader = DataLoader(tensor_test_dataset, batch_size=BATCH_SIZE, shuffle=True)\n",
    "device = torch.device(\"cuda\" if torch.cuda.is_available() else \"cpu\")\n",
    "# 初始化BERT模型\n",
    "model = BertForSequenceClassification.from_pretrained('bert-base-chinese',num_labels = len(label2id))#好像这里可以直接给label编码不需要自己重新做一遍，后面验证一下"
   ]
  },
  {
   "cell_type": "code",
   "execution_count": null,
   "metadata": {},
   "outputs": [],
   "source": [
    "# for i,batch in enumerate(trainloader):\n",
    "#     print(batch)\n",
    "#     break"
   ]
  },
  {
   "cell_type": "code",
   "execution_count": null,
   "metadata": {},
   "outputs": [
    {
     "name": "stdout",
     "output_type": "stream",
     "text": [
      "Epoch: 1\n",
      "[1,    10] loss: 0.93901\n",
      "[1,    20] loss: 0.66309\n",
      "[1,    30] loss: 0.62439\n",
      "[1,    40] loss: 0.62227\n",
      "[1,    50] loss: 0.57290\n",
      "[1,    60] loss: 0.57498\n",
      "[1,    70] loss: 0.58685\n",
      "[1,    80] loss: 0.56125\n",
      "[1,    90] loss: 0.58406\n",
      "[1,   100] loss: 0.60031\n",
      "[1,   110] loss: 0.59548\n",
      "[1,   120] loss: 0.55234\n",
      "[1,   130] loss: 0.52638\n",
      "[1,   140] loss: 0.53376\n",
      "[1,   150] loss: 0.52500\n",
      "[1,   160] loss: 0.48453\n",
      "[1,   170] loss: 0.49316\n",
      "[1,   180] loss: 0.49524\n",
      "[1,   190] loss: 0.56397\n",
      "[1,   200] loss: 0.51885\n",
      "[1,   210] loss: 0.50809\n",
      "[1,   220] loss: 0.53007\n",
      "[1,   230] loss: 0.54023\n",
      "[1,   240] loss: 0.51940\n",
      "[1,   250] loss: 0.50781\n",
      "[1,   260] loss: 0.47171\n",
      "[1,   270] loss: 0.47337\n",
      "[1,   280] loss: 0.46466\n",
      "[1,   290] loss: 0.46770\n",
      "[1,   300] loss: 0.52230\n",
      "[1,   310] loss: 0.50878\n",
      "[1,   320] loss: 0.48410\n",
      "[1,   330] loss: 0.48542\n",
      "[1,   340] loss: 0.55199\n",
      "[1,   350] loss: 0.47378\n",
      "[1,   360] loss: 0.50344\n",
      "[1,   370] loss: 0.48833\n",
      "[1,   380] loss: 0.43848\n",
      "[1,   390] loss: 0.46680\n",
      "[1,   400] loss: 0.49662\n",
      "[1,   410] loss: 0.46847\n",
      "[1,   420] loss: 0.50478\n",
      "[1,   430] loss: 0.49151\n",
      "[1,   440] loss: 0.44628\n",
      "[1,   450] loss: 0.54909\n",
      "[1,   460] loss: 0.44188\n",
      "[1,   470] loss: 0.42823\n",
      "[1,   480] loss: 0.52107\n",
      "[1,   490] loss: 0.48212\n",
      "[1,   500] loss: 0.47100\n",
      "[1,   510] loss: 0.48252\n",
      "[1,   520] loss: 0.49669\n",
      "[1,   530] loss: 0.50720\n",
      "[1,   540] loss: 0.43674\n",
      "[1,   550] loss: 0.45297\n",
      "[1,   560] loss: 0.50223\n",
      "[1,   570] loss: 0.44706\n",
      "[1,   580] loss: 0.44549\n",
      "[1,   590] loss: 0.39302\n",
      "[1,   600] loss: 0.45070\n",
      "[1,   610] loss: 0.47442\n",
      "[1,   620] loss: 0.45260\n",
      "[1,   630] loss: 0.46839\n",
      "[1,   640] loss: 0.43667\n",
      "[1,   650] loss: 0.47100\n",
      "[1,   660] loss: 0.46601\n",
      "[1,   670] loss: 0.44937\n",
      "[1,   680] loss: 0.47368\n",
      "[1,   690] loss: 0.42271\n",
      "[1,   700] loss: 0.46599\n",
      "[1,   710] loss: 0.44180\n",
      "[1,   720] loss: 0.43017\n",
      "[1,   730] loss: 0.48357\n",
      "[1,   740] loss: 0.42679\n",
      "[1,   750] loss: 0.42014\n",
      "[1,   760] loss: 0.48032\n",
      "[1,   770] loss: 0.40342\n",
      "[1,   780] loss: 0.46811\n",
      "[1,   790] loss: 0.45534\n",
      "[1,   800] loss: 0.46436\n",
      "[1,   810] loss: 0.39451\n",
      "[1,   820] loss: 0.42616\n",
      "[1,   830] loss: 0.46199\n",
      "[1,   840] loss: 0.43998\n",
      "[1,   850] loss: 0.41740\n",
      "[1,   860] loss: 0.49576\n",
      "[1,   870] loss: 0.45722\n",
      "[1,   880] loss: 0.43124\n",
      "[1,   890] loss: 0.43841\n",
      "[1,   900] loss: 0.49392\n",
      "[1,   910] loss: 0.47515\n",
      "[1,   920] loss: 0.46097\n",
      "[1,   930] loss: 0.49391\n",
      "[1,   940] loss: 0.46182\n",
      "[1,   950] loss: 0.41044\n",
      "[1,   960] loss: 0.37879\n",
      "[1,   970] loss: 0.40621\n",
      "[1,   980] loss: 0.40815\n",
      "[1,   990] loss: 0.38241\n",
      "[1,  1000] loss: 0.42861\n",
      "[1,  1010] loss: 0.40796\n",
      "[1,  1020] loss: 0.44138\n",
      "[1,  1030] loss: 0.42589\n",
      "[1,  1040] loss: 0.45400\n",
      "[1,  1050] loss: 0.41260\n",
      "[1,  1060] loss: 0.46139\n",
      "[1,  1070] loss: 0.44666\n",
      "[1,  1080] loss: 0.45689\n",
      "[1,  1090] loss: 0.42524\n",
      "[1,  1100] loss: 0.43065\n",
      "[1,  1110] loss: 0.35956\n",
      "[1,  1120] loss: 0.47611\n",
      "[1,  1130] loss: 0.38232\n",
      "[1,  1140] loss: 0.42528\n",
      "[1,  1150] loss: 0.41465\n",
      "[1,  1160] loss: 0.41133\n",
      "[1,  1170] loss: 0.40745\n",
      "[1,  1180] loss: 0.40950\n",
      "[1,  1190] loss: 0.41545\n",
      "[1,  1200] loss: 0.45496\n",
      "[1,  1210] loss: 0.38461\n",
      "[1,  1220] loss: 0.40158\n",
      "[1,  1230] loss: 0.36731\n",
      "[1,  1240] loss: 0.41171\n",
      "[1,  1250] loss: 0.41540\n",
      "[1,  1260] loss: 0.42152\n",
      "[1,  1270] loss: 0.42735\n",
      "[1,  1280] loss: 0.43460\n",
      "[1,  1290] loss: 0.42999\n",
      "[1,  1300] loss: 0.41275\n",
      "[1,  1310] loss: 0.38722\n",
      "[1,  1320] loss: 0.36912\n",
      "[1,  1330] loss: 0.42678\n",
      "[1,  1340] loss: 0.42349\n",
      "[1,  1350] loss: 0.43335\n",
      "[1,  1360] loss: 0.39377\n",
      "[1,  1370] loss: 0.39493\n",
      "[1,  1380] loss: 0.37168\n",
      "[1,  1390] loss: 0.38707\n",
      "[1,  1400] loss: 0.39995\n",
      "[1,  1410] loss: 0.41530\n",
      "[1,  1420] loss: 0.38041\n",
      "[1,  1430] loss: 0.38930\n",
      "[1,  1440] loss: 0.38751\n",
      "[1,  1450] loss: 0.44974\n",
      "[1,  1460] loss: 0.36107\n",
      "[1,  1470] loss: 0.40042\n",
      "[1,  1480] loss: 0.43319\n",
      "[1,  1490] loss: 0.40284\n",
      "[1,  1500] loss: 0.33327\n",
      "Epoch: 2\n",
      "[2,    10] loss: 0.64958\n",
      "[2,    20] loss: 0.31309\n",
      "[2,    30] loss: 0.29948\n",
      "[2,    40] loss: 0.30653\n",
      "[2,    50] loss: 0.35815\n",
      "[2,    60] loss: 0.37542\n",
      "[2,    70] loss: 0.32116\n",
      "[2,    80] loss: 0.34856\n",
      "[2,    90] loss: 0.31471\n",
      "[2,   100] loss: 0.35839\n",
      "[2,   110] loss: 0.30778\n",
      "[2,   120] loss: 0.34944\n",
      "[2,   130] loss: 0.34175\n",
      "[2,   140] loss: 0.28726\n",
      "[2,   150] loss: 0.33951\n",
      "[2,   160] loss: 0.33507\n",
      "[2,   170] loss: 0.33670\n",
      "[2,   180] loss: 0.26802\n",
      "[2,   190] loss: 0.33185\n",
      "[2,   200] loss: 0.33342\n",
      "[2,   210] loss: 0.31583\n",
      "[2,   220] loss: 0.31245\n",
      "[2,   230] loss: 0.33954\n",
      "[2,   240] loss: 0.28100\n",
      "[2,   250] loss: 0.29268\n",
      "[2,   260] loss: 0.29967\n",
      "[2,   270] loss: 0.36262\n",
      "[2,   280] loss: 0.34977\n",
      "[2,   290] loss: 0.29626\n",
      "[2,   300] loss: 0.35684\n",
      "[2,   310] loss: 0.36118\n",
      "[2,   320] loss: 0.32622\n",
      "[2,   330] loss: 0.31457\n",
      "[2,   340] loss: 0.34072\n",
      "[2,   350] loss: 0.33249\n",
      "[2,   360] loss: 0.31140\n",
      "[2,   370] loss: 0.35949\n",
      "[2,   380] loss: 0.28872\n",
      "[2,   390] loss: 0.32808\n",
      "[2,   400] loss: 0.35600\n",
      "[2,   410] loss: 0.36413\n",
      "[2,   420] loss: 0.29060\n",
      "[2,   430] loss: 0.34197\n",
      "[2,   440] loss: 0.31168\n",
      "[2,   450] loss: 0.26963\n",
      "[2,   460] loss: 0.39241\n",
      "[2,   470] loss: 0.33209\n",
      "[2,   480] loss: 0.34853\n",
      "[2,   490] loss: 0.28976\n",
      "[2,   500] loss: 0.33987\n",
      "[2,   510] loss: 0.29764\n",
      "[2,   520] loss: 0.33915\n",
      "[2,   530] loss: 0.33264\n",
      "[2,   540] loss: 0.34592\n",
      "[2,   550] loss: 0.36663\n",
      "[2,   560] loss: 0.33177\n",
      "[2,   570] loss: 0.35858\n",
      "[2,   580] loss: 0.34733\n",
      "[2,   590] loss: 0.32141\n",
      "[2,   600] loss: 0.36403\n",
      "[2,   610] loss: 0.29236\n",
      "[2,   620] loss: 0.30831\n",
      "[2,   630] loss: 0.36388\n",
      "[2,   640] loss: 0.35380\n",
      "[2,   650] loss: 0.30411\n",
      "[2,   660] loss: 0.33923\n",
      "[2,   670] loss: 0.33059\n",
      "[2,   680] loss: 0.33535\n",
      "[2,   690] loss: 0.34093\n",
      "[2,   700] loss: 0.32165\n",
      "[2,   710] loss: 0.31348\n",
      "[2,   720] loss: 0.29759\n",
      "[2,   730] loss: 0.23936\n",
      "[2,   740] loss: 0.31211\n",
      "[2,   750] loss: 0.32379\n",
      "[2,   760] loss: 0.30200\n",
      "[2,   770] loss: 0.30501\n",
      "[2,   780] loss: 0.34145\n",
      "[2,   790] loss: 0.30646\n",
      "[2,   800] loss: 0.32164\n",
      "[2,   810] loss: 0.34754\n",
      "[2,   820] loss: 0.31947\n",
      "[2,   830] loss: 0.28900\n",
      "[2,   840] loss: 0.31067\n",
      "[2,   850] loss: 0.32013\n",
      "[2,   860] loss: 0.30162\n",
      "[2,   870] loss: 0.31126\n",
      "[2,   880] loss: 0.24972\n",
      "[2,   890] loss: 0.29460\n",
      "[2,   900] loss: 0.27771\n",
      "[2,   910] loss: 0.35736\n",
      "[2,   920] loss: 0.32754\n",
      "[2,   930] loss: 0.34008\n",
      "[2,   940] loss: 0.30925\n",
      "[2,   950] loss: 0.35213\n",
      "[2,   960] loss: 0.33272\n",
      "[2,   970] loss: 0.28771\n",
      "[2,   980] loss: 0.33023\n",
      "[2,   990] loss: 0.32333\n",
      "[2,  1000] loss: 0.32216\n",
      "[2,  1010] loss: 0.32784\n",
      "[2,  1020] loss: 0.27728\n",
      "[2,  1030] loss: 0.32142\n",
      "[2,  1040] loss: 0.32244\n",
      "[2,  1050] loss: 0.31469\n",
      "[2,  1060] loss: 0.31873\n",
      "[2,  1070] loss: 0.35280\n",
      "[2,  1080] loss: 0.30106\n",
      "[2,  1090] loss: 0.32420\n",
      "[2,  1100] loss: 0.39497\n",
      "[2,  1110] loss: 0.30685\n",
      "[2,  1120] loss: 0.29144\n",
      "[2,  1130] loss: 0.33822\n",
      "[2,  1140] loss: 0.28739\n",
      "[2,  1150] loss: 0.33508\n",
      "[2,  1160] loss: 0.33337\n",
      "[2,  1170] loss: 0.30995\n",
      "[2,  1180] loss: 0.28660\n",
      "[2,  1190] loss: 0.31658\n",
      "[2,  1200] loss: 0.33093\n",
      "[2,  1210] loss: 0.37139\n",
      "[2,  1220] loss: 0.34432\n",
      "[2,  1230] loss: 0.32873\n",
      "[2,  1240] loss: 0.30510\n",
      "[2,  1250] loss: 0.34954\n",
      "[2,  1260] loss: 0.28705\n",
      "[2,  1270] loss: 0.31238\n",
      "[2,  1280] loss: 0.36627\n",
      "[2,  1290] loss: 0.38899\n",
      "[2,  1300] loss: 0.25102\n",
      "[2,  1310] loss: 0.35617\n",
      "[2,  1320] loss: 0.31131\n",
      "[2,  1330] loss: 0.36499\n",
      "[2,  1340] loss: 0.31018\n",
      "[2,  1350] loss: 0.34143\n",
      "[2,  1360] loss: 0.32529\n",
      "[2,  1370] loss: 0.31833\n",
      "[2,  1380] loss: 0.36639\n",
      "[2,  1390] loss: 0.34418\n",
      "[2,  1400] loss: 0.30589\n",
      "[2,  1410] loss: 0.29156\n",
      "[2,  1420] loss: 0.31084\n",
      "[2,  1430] loss: 0.31191\n",
      "[2,  1440] loss: 0.29952\n",
      "[2,  1450] loss: 0.30167\n",
      "[2,  1460] loss: 0.31499\n",
      "[2,  1470] loss: 0.33733\n",
      "[2,  1480] loss: 0.30379\n",
      "[2,  1490] loss: 0.30478\n",
      "[2,  1500] loss: 0.29214\n",
      "Epoch: 3\n",
      "[3,    10] loss: 0.44380\n",
      "[3,    20] loss: 0.19601\n",
      "[3,    30] loss: 0.18272\n",
      "[3,    40] loss: 0.17664\n",
      "[3,    50] loss: 0.23277\n",
      "[3,    60] loss: 0.20022\n",
      "[3,    70] loss: 0.23080\n",
      "[3,    80] loss: 0.21304\n",
      "[3,    90] loss: 0.19509\n",
      "[3,   100] loss: 0.20426\n",
      "[3,   110] loss: 0.20317\n",
      "[3,   120] loss: 0.20109\n",
      "[3,   130] loss: 0.20270\n",
      "[3,   140] loss: 0.18384\n",
      "[3,   150] loss: 0.19577\n",
      "[3,   160] loss: 0.21641\n",
      "[3,   170] loss: 0.21356\n",
      "[3,   180] loss: 0.21111\n",
      "[3,   190] loss: 0.18542\n",
      "[3,   200] loss: 0.23126\n",
      "[3,   210] loss: 0.21212\n",
      "[3,   220] loss: 0.18872\n",
      "[3,   230] loss: 0.24847\n",
      "[3,   240] loss: 0.22566\n",
      "[3,   250] loss: 0.22261\n",
      "[3,   260] loss: 0.21725\n",
      "[3,   270] loss: 0.21842\n",
      "[3,   280] loss: 0.23300\n",
      "[3,   290] loss: 0.20596\n",
      "[3,   300] loss: 0.22528\n",
      "[3,   310] loss: 0.20381\n",
      "[3,   320] loss: 0.24508\n",
      "[3,   330] loss: 0.21843\n",
      "[3,   340] loss: 0.18830\n",
      "[3,   350] loss: 0.21218\n",
      "[3,   360] loss: 0.20516\n",
      "[3,   370] loss: 0.20724\n",
      "[3,   380] loss: 0.21972\n",
      "[3,   390] loss: 0.19520\n",
      "[3,   400] loss: 0.17626\n",
      "[3,   410] loss: 0.21342\n",
      "[3,   420] loss: 0.28071\n",
      "[3,   430] loss: 0.20569\n",
      "[3,   440] loss: 0.24892\n",
      "[3,   450] loss: 0.18831\n",
      "[3,   460] loss: 0.22445\n",
      "[3,   470] loss: 0.24335\n",
      "[3,   480] loss: 0.18513\n",
      "[3,   490] loss: 0.20814\n",
      "[3,   500] loss: 0.22529\n",
      "[3,   510] loss: 0.21519\n",
      "[3,   520] loss: 0.20913\n",
      "[3,   530] loss: 0.19491\n",
      "[3,   540] loss: 0.20233\n",
      "[3,   550] loss: 0.25552\n",
      "[3,   560] loss: 0.21865\n",
      "[3,   570] loss: 0.29269\n",
      "[3,   580] loss: 0.20275\n",
      "[3,   590] loss: 0.20978\n",
      "[3,   600] loss: 0.20389\n",
      "[3,   610] loss: 0.18384\n",
      "[3,   620] loss: 0.18971\n",
      "[3,   630] loss: 0.19771\n",
      "[3,   640] loss: 0.23769\n",
      "[3,   650] loss: 0.20711\n",
      "[3,   660] loss: 0.21270\n",
      "[3,   670] loss: 0.22377\n",
      "[3,   680] loss: 0.19139\n",
      "[3,   690] loss: 0.23867\n",
      "[3,   700] loss: 0.24052\n",
      "[3,   710] loss: 0.19823\n",
      "[3,   720] loss: 0.23019\n",
      "[3,   730] loss: 0.21915\n",
      "[3,   740] loss: 0.23545\n",
      "[3,   750] loss: 0.22715\n",
      "[3,   760] loss: 0.25986\n",
      "[3,   770] loss: 0.20765\n",
      "[3,   780] loss: 0.17699\n",
      "[3,   790] loss: 0.26728\n",
      "[3,   800] loss: 0.20081\n",
      "[3,   810] loss: 0.19276\n",
      "[3,   820] loss: 0.21613\n",
      "[3,   830] loss: 0.22922\n",
      "[3,   840] loss: 0.21460\n",
      "[3,   850] loss: 0.24212\n",
      "[3,   860] loss: 0.25715\n",
      "[3,   870] loss: 0.25459\n",
      "[3,   880] loss: 0.20826\n",
      "[3,   890] loss: 0.24386\n",
      "[3,   900] loss: 0.19405\n",
      "[3,   910] loss: 0.18824\n",
      "[3,   920] loss: 0.19387\n",
      "[3,   930] loss: 0.22169\n",
      "[3,   940] loss: 0.22783\n",
      "[3,   950] loss: 0.22046\n",
      "[3,   960] loss: 0.26019\n",
      "[3,   970] loss: 0.20339\n",
      "[3,   980] loss: 0.22625\n",
      "[3,   990] loss: 0.23473\n",
      "[3,  1000] loss: 0.21856\n",
      "[3,  1010] loss: 0.18953\n",
      "[3,  1020] loss: 0.24088\n",
      "[3,  1030] loss: 0.22866\n",
      "[3,  1040] loss: 0.20049\n",
      "[3,  1050] loss: 0.22625\n",
      "[3,  1060] loss: 0.23216\n",
      "[3,  1070] loss: 0.23110\n",
      "[3,  1080] loss: 0.24948\n",
      "[3,  1090] loss: 0.24135\n",
      "[3,  1100] loss: 0.22561\n",
      "[3,  1110] loss: 0.22350\n",
      "[3,  1120] loss: 0.23404\n",
      "[3,  1130] loss: 0.23646\n",
      "[3,  1140] loss: 0.19652\n",
      "[3,  1150] loss: 0.22604\n",
      "[3,  1160] loss: 0.24159\n",
      "[3,  1170] loss: 0.20483\n",
      "[3,  1180] loss: 0.23588\n",
      "[3,  1190] loss: 0.23966\n",
      "[3,  1200] loss: 0.19764\n",
      "[3,  1210] loss: 0.24102\n",
      "[3,  1220] loss: 0.28636\n",
      "[3,  1230] loss: 0.25791\n",
      "[3,  1240] loss: 0.20532\n",
      "[3,  1250] loss: 0.26421\n",
      "[3,  1260] loss: 0.17984\n",
      "[3,  1270] loss: 0.26294\n",
      "[3,  1280] loss: 0.25210\n",
      "[3,  1290] loss: 0.24487\n",
      "[3,  1300] loss: 0.21499\n",
      "[3,  1310] loss: 0.22888\n",
      "[3,  1320] loss: 0.23181\n",
      "[3,  1330] loss: 0.26318\n",
      "[3,  1340] loss: 0.23202\n",
      "[3,  1350] loss: 0.20086\n",
      "[3,  1360] loss: 0.19848\n",
      "[3,  1370] loss: 0.23930\n",
      "[3,  1380] loss: 0.22349\n",
      "[3,  1390] loss: 0.26388\n",
      "[3,  1400] loss: 0.19188\n",
      "[3,  1410] loss: 0.22910\n",
      "[3,  1420] loss: 0.21993\n",
      "[3,  1430] loss: 0.21694\n",
      "[3,  1440] loss: 0.22588\n",
      "[3,  1450] loss: 0.24620\n",
      "[3,  1460] loss: 0.19291\n",
      "[3,  1470] loss: 0.22665\n",
      "[3,  1480] loss: 0.22332\n",
      "[3,  1490] loss: 0.18729\n",
      "[3,  1500] loss: 0.20938\n",
      "Epoch: 4\n",
      "[4,    10] loss: 0.28906\n",
      "[4,    20] loss: 0.12195\n",
      "[4,    30] loss: 0.11440\n",
      "[4,    40] loss: 0.13583\n",
      "[4,    50] loss: 0.11996\n",
      "[4,    60] loss: 0.09857\n",
      "[4,    70] loss: 0.13186\n",
      "[4,    80] loss: 0.12899\n",
      "[4,    90] loss: 0.09897\n",
      "[4,   100] loss: 0.09819\n",
      "[4,   110] loss: 0.11593\n",
      "[4,   120] loss: 0.11986\n",
      "[4,   130] loss: 0.11818\n",
      "[4,   140] loss: 0.12292\n",
      "[4,   150] loss: 0.09769\n",
      "[4,   160] loss: 0.13282\n",
      "[4,   170] loss: 0.11336\n",
      "[4,   180] loss: 0.10917\n",
      "[4,   190] loss: 0.15240\n",
      "[4,   200] loss: 0.09995\n",
      "[4,   210] loss: 0.16192\n",
      "[4,   220] loss: 0.12158\n",
      "[4,   230] loss: 0.10004\n",
      "[4,   240] loss: 0.10821\n",
      "[4,   250] loss: 0.12973\n",
      "[4,   260] loss: 0.13239\n",
      "[4,   270] loss: 0.13900\n",
      "[4,   280] loss: 0.15581\n",
      "[4,   290] loss: 0.11857\n",
      "[4,   300] loss: 0.16992\n",
      "[4,   310] loss: 0.13303\n",
      "[4,   320] loss: 0.13629\n",
      "[4,   330] loss: 0.11202\n",
      "[4,   340] loss: 0.11376\n",
      "[4,   350] loss: 0.15550\n",
      "[4,   360] loss: 0.10502\n",
      "[4,   370] loss: 0.13574\n",
      "[4,   380] loss: 0.12491\n",
      "[4,   390] loss: 0.11810\n",
      "[4,   400] loss: 0.14452\n",
      "[4,   410] loss: 0.10329\n",
      "[4,   420] loss: 0.14581\n",
      "[4,   430] loss: 0.13142\n",
      "[4,   440] loss: 0.11418\n",
      "[4,   450] loss: 0.09234\n",
      "[4,   460] loss: 0.14998\n",
      "[4,   470] loss: 0.15766\n",
      "[4,   480] loss: 0.12965\n",
      "[4,   490] loss: 0.11317\n",
      "[4,   500] loss: 0.12423\n",
      "[4,   510] loss: 0.09449\n",
      "[4,   520] loss: 0.12097\n",
      "[4,   530] loss: 0.15633\n",
      "[4,   540] loss: 0.13931\n",
      "[4,   550] loss: 0.18026\n",
      "[4,   560] loss: 0.10818\n",
      "[4,   570] loss: 0.11976\n",
      "[4,   580] loss: 0.10792\n",
      "[4,   590] loss: 0.11280\n",
      "[4,   600] loss: 0.14130\n",
      "[4,   610] loss: 0.10994\n",
      "[4,   620] loss: 0.14597\n",
      "[4,   630] loss: 0.12443\n",
      "[4,   640] loss: 0.14313\n",
      "[4,   650] loss: 0.12421\n",
      "[4,   660] loss: 0.15370\n",
      "[4,   670] loss: 0.14924\n",
      "[4,   680] loss: 0.14061\n",
      "[4,   690] loss: 0.13230\n",
      "[4,   700] loss: 0.11833\n",
      "[4,   710] loss: 0.13491\n",
      "[4,   720] loss: 0.13109\n",
      "[4,   730] loss: 0.11395\n",
      "[4,   740] loss: 0.14687\n",
      "[4,   750] loss: 0.15885\n",
      "[4,   760] loss: 0.14108\n",
      "[4,   770] loss: 0.13028\n",
      "[4,   780] loss: 0.14607\n",
      "[4,   790] loss: 0.17269\n",
      "[4,   800] loss: 0.12183\n",
      "[4,   810] loss: 0.10547\n",
      "[4,   820] loss: 0.14673\n",
      "[4,   830] loss: 0.11020\n",
      "[4,   840] loss: 0.11292\n",
      "[4,   850] loss: 0.10990\n",
      "[4,   860] loss: 0.15032\n",
      "[4,   870] loss: 0.12392\n",
      "[4,   880] loss: 0.16476\n",
      "[4,   890] loss: 0.15150\n",
      "[4,   900] loss: 0.13704\n",
      "[4,   910] loss: 0.12838\n",
      "[4,   920] loss: 0.13217\n",
      "[4,   930] loss: 0.13978\n",
      "[4,   940] loss: 0.13827\n",
      "[4,   950] loss: 0.12060\n",
      "[4,   960] loss: 0.11442\n",
      "[4,   970] loss: 0.18580\n",
      "[4,   980] loss: 0.15974\n",
      "[4,   990] loss: 0.11519\n",
      "[4,  1000] loss: 0.13478\n",
      "[4,  1010] loss: 0.12929\n",
      "[4,  1020] loss: 0.17909\n",
      "[4,  1030] loss: 0.16028\n",
      "[4,  1040] loss: 0.14147\n",
      "[4,  1050] loss: 0.12838\n",
      "[4,  1060] loss: 0.15282\n",
      "[4,  1070] loss: 0.13096\n",
      "[4,  1080] loss: 0.13813\n",
      "[4,  1090] loss: 0.16910\n",
      "[4,  1100] loss: 0.14956\n",
      "[4,  1110] loss: 0.12695\n",
      "[4,  1120] loss: 0.16217\n",
      "[4,  1130] loss: 0.13080\n",
      "[4,  1140] loss: 0.12642\n",
      "[4,  1150] loss: 0.13554\n",
      "[4,  1160] loss: 0.17265\n",
      "[4,  1170] loss: 0.16426\n",
      "[4,  1180] loss: 0.13095\n",
      "[4,  1190] loss: 0.11773\n",
      "[4,  1200] loss: 0.14996\n",
      "[4,  1210] loss: 0.13379\n",
      "[4,  1220] loss: 0.16295\n",
      "[4,  1230] loss: 0.17678\n",
      "[4,  1240] loss: 0.11357\n",
      "[4,  1250] loss: 0.14790\n",
      "[4,  1260] loss: 0.15979\n",
      "[4,  1270] loss: 0.12429\n",
      "[4,  1280] loss: 0.16396\n",
      "[4,  1290] loss: 0.15238\n",
      "[4,  1300] loss: 0.16690\n",
      "[4,  1310] loss: 0.13241\n",
      "[4,  1320] loss: 0.10357\n",
      "[4,  1330] loss: 0.11600\n",
      "[4,  1340] loss: 0.15287\n",
      "[4,  1350] loss: 0.12652\n",
      "[4,  1360] loss: 0.15670\n",
      "[4,  1370] loss: 0.19141\n",
      "[4,  1380] loss: 0.13046\n",
      "[4,  1390] loss: 0.14051\n",
      "[4,  1400] loss: 0.11761\n",
      "[4,  1410] loss: 0.12330\n",
      "[4,  1420] loss: 0.13885\n",
      "[4,  1430] loss: 0.16832\n",
      "[4,  1440] loss: 0.11769\n",
      "[4,  1450] loss: 0.14461\n",
      "[4,  1460] loss: 0.16270\n",
      "[4,  1470] loss: 0.15719\n",
      "[4,  1480] loss: 0.14894\n",
      "[4,  1490] loss: 0.13054\n",
      "[4,  1500] loss: 0.16696\n",
      "Epoch: 5\n",
      "[5,    10] loss: 0.19835\n",
      "[5,    20] loss: 0.09007\n",
      "[5,    30] loss: 0.06903\n",
      "[5,    40] loss: 0.05539\n",
      "[5,    50] loss: 0.10621\n",
      "[5,    60] loss: 0.05804\n",
      "[5,    70] loss: 0.07573\n",
      "[5,    80] loss: 0.05690\n",
      "[5,    90] loss: 0.08639\n",
      "[5,   100] loss: 0.10061\n",
      "[5,   110] loss: 0.07595\n",
      "[5,   120] loss: 0.07993\n",
      "[5,   130] loss: 0.06840\n",
      "[5,   140] loss: 0.05676\n",
      "[5,   150] loss: 0.05204\n",
      "[5,   160] loss: 0.06764\n",
      "[5,   170] loss: 0.07328\n",
      "[5,   180] loss: 0.04225\n",
      "[5,   190] loss: 0.05501\n",
      "[5,   200] loss: 0.06141\n",
      "[5,   210] loss: 0.08214\n",
      "[5,   220] loss: 0.06776\n",
      "[5,   230] loss: 0.05200\n",
      "[5,   240] loss: 0.06510\n",
      "[5,   250] loss: 0.08943\n",
      "[5,   260] loss: 0.07330\n",
      "[5,   270] loss: 0.05192\n",
      "[5,   280] loss: 0.05740\n",
      "[5,   290] loss: 0.07733\n",
      "[5,   300] loss: 0.05050\n",
      "[5,   310] loss: 0.03744\n",
      "[5,   320] loss: 0.06315\n",
      "[5,   330] loss: 0.09852\n",
      "[5,   340] loss: 0.09129\n",
      "[5,   350] loss: 0.08609\n",
      "[5,   360] loss: 0.08129\n",
      "[5,   370] loss: 0.08564\n",
      "[5,   380] loss: 0.06068\n",
      "[5,   390] loss: 0.05801\n",
      "[5,   400] loss: 0.08299\n",
      "[5,   410] loss: 0.11856\n",
      "[5,   420] loss: 0.07061\n",
      "[5,   430] loss: 0.07729\n",
      "[5,   440] loss: 0.07794\n",
      "[5,   450] loss: 0.07673\n",
      "[5,   460] loss: 0.06766\n",
      "[5,   470] loss: 0.05477\n",
      "[5,   480] loss: 0.05735\n",
      "[5,   490] loss: 0.06165\n",
      "[5,   500] loss: 0.06322\n",
      "[5,   510] loss: 0.10272\n",
      "[5,   520] loss: 0.05728\n",
      "[5,   530] loss: 0.08269\n",
      "[5,   540] loss: 0.06173\n",
      "[5,   550] loss: 0.07210\n",
      "[5,   560] loss: 0.05853\n",
      "[5,   570] loss: 0.08212\n",
      "[5,   580] loss: 0.10669\n",
      "[5,   590] loss: 0.10574\n",
      "[5,   600] loss: 0.08411\n",
      "[5,   610] loss: 0.08573\n",
      "[5,   620] loss: 0.05358\n",
      "[5,   630] loss: 0.07066\n",
      "[5,   640] loss: 0.11669\n",
      "[5,   650] loss: 0.09533\n",
      "[5,   660] loss: 0.08479\n",
      "[5,   670] loss: 0.10965\n",
      "[5,   680] loss: 0.09199\n",
      "[5,   690] loss: 0.07767\n",
      "[5,   700] loss: 0.13038\n",
      "[5,   710] loss: 0.07162\n",
      "[5,   720] loss: 0.09446\n",
      "[5,   730] loss: 0.09442\n",
      "[5,   740] loss: 0.09110\n",
      "[5,   750] loss: 0.04485\n",
      "[5,   760] loss: 0.05911\n",
      "[5,   770] loss: 0.08990\n",
      "[5,   780] loss: 0.10039\n",
      "[5,   790] loss: 0.07591\n",
      "[5,   800] loss: 0.11382\n",
      "[5,   810] loss: 0.06547\n",
      "[5,   820] loss: 0.06347\n",
      "[5,   830] loss: 0.06750\n",
      "[5,   840] loss: 0.08690\n",
      "[5,   850] loss: 0.07887\n",
      "[5,   860] loss: 0.07399\n",
      "[5,   870] loss: 0.07626\n",
      "[5,   880] loss: 0.08778\n",
      "[5,   890] loss: 0.07303\n",
      "[5,   900] loss: 0.07477\n",
      "[5,   910] loss: 0.07892\n",
      "[5,   920] loss: 0.07862\n",
      "[5,   930] loss: 0.09025\n",
      "[5,   940] loss: 0.06878\n",
      "[5,   950] loss: 0.09039\n",
      "[5,   960] loss: 0.09782\n",
      "[5,   970] loss: 0.11574\n",
      "[5,   980] loss: 0.10228\n",
      "[5,   990] loss: 0.10487\n",
      "[5,  1000] loss: 0.07087\n",
      "[5,  1010] loss: 0.06638\n",
      "[5,  1020] loss: 0.09666\n",
      "[5,  1030] loss: 0.10711\n",
      "[5,  1040] loss: 0.09622\n",
      "[5,  1050] loss: 0.07612\n",
      "[5,  1060] loss: 0.08506\n",
      "[5,  1070] loss: 0.06677\n",
      "[5,  1080] loss: 0.10332\n",
      "[5,  1090] loss: 0.07835\n",
      "[5,  1100] loss: 0.11255\n",
      "[5,  1110] loss: 0.08658\n",
      "[5,  1120] loss: 0.07511\n",
      "[5,  1130] loss: 0.10101\n",
      "[5,  1140] loss: 0.10500\n",
      "[5,  1150] loss: 0.09498\n",
      "[5,  1160] loss: 0.09258\n",
      "[5,  1170] loss: 0.10791\n",
      "[5,  1180] loss: 0.10374\n",
      "[5,  1190] loss: 0.05675\n",
      "[5,  1200] loss: 0.07514\n",
      "[5,  1210] loss: 0.08262\n",
      "[5,  1220] loss: 0.10898\n",
      "[5,  1230] loss: 0.11208\n",
      "[5,  1240] loss: 0.07812\n",
      "[5,  1250] loss: 0.11934\n",
      "[5,  1260] loss: 0.10888\n",
      "[5,  1270] loss: 0.06781\n",
      "[5,  1280] loss: 0.08406\n",
      "[5,  1290] loss: 0.07353\n",
      "[5,  1300] loss: 0.06989\n",
      "[5,  1310] loss: 0.11650\n",
      "[5,  1320] loss: 0.07508\n",
      "[5,  1330] loss: 0.07838\n",
      "[5,  1340] loss: 0.09968\n",
      "[5,  1350] loss: 0.11753\n",
      "[5,  1360] loss: 0.14680\n",
      "[5,  1370] loss: 0.08960\n",
      "[5,  1380] loss: 0.09404\n",
      "[5,  1390] loss: 0.08706\n",
      "[5,  1400] loss: 0.07490\n",
      "[5,  1410] loss: 0.08233\n",
      "[5,  1420] loss: 0.12661\n",
      "[5,  1430] loss: 0.08899\n",
      "[5,  1440] loss: 0.08887\n",
      "[5,  1450] loss: 0.11134\n",
      "[5,  1460] loss: 0.10480\n",
      "[5,  1470] loss: 0.10012\n",
      "[5,  1480] loss: 0.12096\n",
      "[5,  1490] loss: 0.08556\n",
      "[5,  1500] loss: 0.12451\n"
     ]
    }
   ],
   "source": [
    "\n",
    "\n",
    "model = nn.DataParallel(model)#多卡训练\n",
    "model = model.to(device)\n",
    "# 定义优化器和学习率\n",
    "optimizer = torch.optim.Adam(model.parameters(), lr=1e-5)\n",
    "running_loss = 0\n",
    "# 训练模型\n",
    "EPOCHS =5\n",
    "for epoch in range(EPOCHS):\n",
    "    print('Epoch:', epoch + 1)\n",
    "    for i,batch in enumerate(trainloader):\n",
    "\n",
    "   \n",
    "        \n",
    "        batch_input_ids = batch[0].to(device)\n",
    "        batch_attention_mask = batch[1].to(device)\n",
    "        token_type_ids = batch[2].to(device)\n",
    "        batch_labels = batch[3].to(device)\n",
    "        \n",
    "\n",
    "        # 计算模型的损失\n",
    "        outputs = model(batch_input_ids, attention_mask=batch_attention_mask,token_type_ids = token_type_ids, labels=batch_labels)\n",
    "        loss = outputs[0].mean(dim=0)# 多GPU训练需要加.mean(dim=0)，否则直接使用outputs即可\n",
    "\n",
    "        # 反向传播和优化\n",
    "        loss.backward()\n",
    "      \n",
    "        optimizer.step()\n",
    "        optimizer.zero_grad()\n",
    "        running_loss += loss.item()\n",
    "     \n",
    "        if i%10 == 9:\n",
    "            print('[%d, %5d] loss: %.5f' %\n",
    "                  (epoch + 1, i + 1, running_loss / 10.0))\n",
    "            running_loss = 0.0\n"
   ]
  },
  {
   "cell_type": "code",
   "execution_count": null,
   "metadata": {},
   "outputs": [],
   "source": [
    "with torch.no_grad():\n",
    "    for i,batch in enumerate(validloader):\n",
    "\n",
    "        batch_input_ids = batch[0].to(device)\n",
    "        batch_attention_mask = batch[1].to(device)\n",
    "        token_type_ids = batch[2].to(device)\n",
    "        batch_labels = batch[3].to(device)\n",
    "        \n",
    "        # 计算模型的损失\n",
    "        outputs = model(batch_input_ids, attention_mask=batch_attention_mask,token_type_ids = token_type_ids, labels=batch_labels)\n",
    "        loss = outputs[0].mean(dim=0)# 多GPU训练需要加.mean(dim=0)，否则直接使用outputs即可\n",
    "        break\n"
   ]
  },
  {
   "cell_type": "code",
   "execution_count": null,
   "metadata": {},
   "outputs": [
    {
     "data": {
      "text/plain": [
       "tensor([1.0522, 0.6858], device='cuda:0')"
      ]
     },
     "execution_count": 48,
     "metadata": {},
     "output_type": "execute_result"
    }
   ],
   "source": [
    "outputs[0]"
   ]
  },
  {
   "cell_type": "code",
   "execution_count": null,
   "metadata": {},
   "outputs": [],
   "source": []
  }
 ],
 "metadata": {
  "interpreter": {
   "hash": "af29693f008057c36364ef5dfa616275bf7c0cf6e6f82cd1dcf3377b342d6ed3"
  },
  "kernelspec": {
   "display_name": "Python 3.7.16 ('MGeo')",
   "language": "python",
   "name": "python3"
  },
  "language_info": {
   "codemirror_mode": {
    "name": "ipython",
    "version": 3
   },
   "file_extension": ".py",
   "mimetype": "text/x-python",
   "name": "python",
   "nbconvert_exporter": "python",
   "pygments_lexer": "ipython3",
   "version": "3.7.10"
  },
  "orig_nbformat": 4
 },
 "nbformat": 4,
 "nbformat_minor": 2
}
